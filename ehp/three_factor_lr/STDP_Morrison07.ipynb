{
 "cells": [
  {
   "cell_type": "code",
   "execution_count": 1,
   "metadata": {},
   "outputs": [
    {
     "name": "stdout",
     "output_type": "stream",
     "text": [
      "Using matplotlib backend: <object object at 0x7f6418796f90>\n"
     ]
    }
   ],
   "source": [
    "import numpy as np\n",
    "import matplotlib.pyplot as plt\n",
    "from mpl_toolkits.mplot3d import Axes3D\n",
    "from matplotlib import cm\n",
    "#from matplotlib.ticker import LinearLocator, FormatStrFormatter\n",
    "from sys import argv\n",
    "%matplotlib"
   ]
  },
  {
   "cell_type": "code",
   "execution_count": 2,
   "metadata": {},
   "outputs": [],
   "source": [
    "def f_up(w, lam, alpha, mu):\n",
    "    return lam*(w)**mu\n",
    "\n",
    "def f_down(w, lam, alpha, mu):\n",
    "    return -lam*alpha*w"
   ]
  },
  {
   "cell_type": "code",
   "execution_count": 3,
   "metadata": {},
   "outputs": [],
   "source": [
    "#G_h = 20  # Glucose\n",
    "G_h = .1  # ATP\n",
    "def lam_e(A):\n",
    "    #x = (A - G_h)  # Glucose\n",
    "    #lam_n = lam + .4/(1 + np.exp(-x))  # Glucose\n",
    "    intens = 2\n",
    "    x = intens*(A - G_h)/G_h # ATP\n",
    "    lm = .3\n",
    "    lam_n = lam + (lm/(1 + np.exp(-x)) -lm/2)  # APT\n",
    "    lam_n = lam_n*(lam_n >= 0)\n",
    "    return lam_n\n",
    "\n",
    "def mu_e(A):\n",
    "    #x = (A - G_h)  # Glucose\n",
    "    #mu_n = mu + .2/(1 + np.exp(-x))  # Glucose\n",
    "    intens = 3\n",
    "    x = intens*(A - G_h)/G_h # ATP\n",
    "    m = .2\n",
    "    mu_n = mu + (m/(1 + np.exp(-x)) - m/2)  # ATP\n",
    "    mu_n = mu_n*(mu_n >= 0)\n",
    "    return mu_n\n",
    "\n",
    "def alpha_e(A):\n",
    "    #x = (A - G_h)  # Glucose\n",
    "    #alpha_n = alpha + .2/(1 + np.exp(-x))  #  Glucose\n",
    "    intens = 2.2 \n",
    "    x = intens*(A - G_h)/G_h # ATP\n",
    "    a = -.2\n",
    "    alpha_n = alpha + (a/(1 + np.exp(-x)) - a/2)  # ATP\n",
    "    alpha_n = alpha_n*(alpha_n >= 0)\n",
    "    return alpha_n\n",
    "\n",
    "def fe_up(w, lam, alpha, mu, A, dep):\n",
    "    if dep == 'lam' or 'lam_up&alpha_down':\n",
    "        return lam_e(A)*(w)**(mu)\n",
    "    elif dep == 'mu':\n",
    "        return lam*(w)**(mu_e(A))\n",
    "    elif dep == 'mu&alpha':\n",
    "        return lam*(w)**(mu_e(A))\n",
    "\n",
    "def fe_down(w, lam, alpha, mu, A, dep):\n",
    "    if dep == 'lam':\n",
    "        return -lam_e(A)*alpha*w\n",
    "    if dep == 'lam_up&alpha_down':\n",
    "        return -lam*alpha_e(A)*w\n",
    "    elif dep == 'mu':\n",
    "        return -lam*alpha*w\n",
    "    elif dep == 'mu&alpha':\n",
    "        return -lam*alpha_e(A)*w"
   ]
  },
  {
   "cell_type": "code",
   "execution_count": 4,
   "metadata": {},
   "outputs": [],
   "source": [
    "def delta_w(w, delta_t, lam, alpha, mu):\n",
    "    if delta_t > 0:\n",
    "        Dw = f_up(w, lam, alpha, mu)*np.exp(-abs(delta_t)/tau_up) \n",
    "    elif delta_t <= 0:\n",
    "        Dw = f_down(w, lam, alpha, mu)*np.exp(-abs(delta_t)/tau_down) \n",
    "    return np.real(Dw)"
   ]
  },
  {
   "cell_type": "code",
   "execution_count": 5,
   "metadata": {},
   "outputs": [],
   "source": [
    "def delta_e_w(w, delta_t, lam, alpha, mu, A, dep):\n",
    "    if delta_t > 0:\n",
    "        Dw = fe_up(w, lam, alpha, mu, A, dep)*np.exp(-abs(delta_t)/tau_up) \n",
    "    elif delta_t <= 0:\n",
    "        Dw = fe_down(w, lam, alpha, mu, A, dep)*np.exp(-abs(delta_t)/tau_down) \n",
    "    return np.real(Dw)"
   ]
  },
  {
   "cell_type": "code",
   "execution_count": 6,
   "metadata": {},
   "outputs": [],
   "source": [
    "## Standar STDP Rules parameters\n",
    "tau_up = 20\n",
    "tau_down = 20\n",
    "lam = 0.1\n",
    "alpha = 0.11\n",
    "mu = 0.4"
   ]
  },
  {
   "cell_type": "code",
   "execution_count": 7,
   "metadata": {},
   "outputs": [],
   "source": [
    "def stimuli_60s(w_ini, spikes_timing):\n",
    "    grad_w = []\n",
    "    grad_w_perc = []\n",
    "    for d_time in spikes_timing:\n",
    "        grad_w_temp = []\n",
    "        w = w_ini\n",
    "        grad_w_temp.append(w)\n",
    "        if abs(d_time) < 2:\n",
    "            w = np.nan\n",
    "            grad_w_temp.append(w)\n",
    "        for _ in range(0, 61):\n",
    "            grad_w_temp.append(delta_w(w, d_time, lam, alpha, mu))\n",
    "            w+=grad_w_temp[-1]\n",
    "        grad_w.append(w)\n",
    "        grad_w_perc.append((w- w_ini)/w_ini*100)\n",
    "    return grad_w_perc"
   ]
  },
  {
   "cell_type": "code",
   "execution_count": 8,
   "metadata": {},
   "outputs": [],
   "source": [
    "spikes_timing = np.linspace(-100,100,200)\n",
    "w_ini = 17\n",
    "grad_w17_perc = stimuli_60s(w_ini, spikes_timing)\n",
    "w_ini = 50\n",
    "grad_w50_perc = stimuli_60s(w_ini, spikes_timing)\n",
    "w_ini = 100\n",
    "grad_w100_perc = stimuli_60s(w_ini, spikes_timing)"
   ]
  },
  {
   "cell_type": "code",
   "execution_count": 9,
   "metadata": {},
   "outputs": [],
   "source": [
    "fig = plt.figure(figsize = (8,6))\n",
    "ax = fig.add_subplot(111)\n",
    "ax.axvspan(-20, 20, color = \"0.9\")\n",
    "ax.set_xlabel('time (ms)', fontsize=18)\n",
    "ax.set_ylabel('PSC change [%]', fontsize=18)\n",
    "plt.title('STDP: 60 seg 1 Hz stimulation', fontsize=20)\n",
    "ax.plot(spikes_timing, grad_w17_perc, c = 'b', linewidth=3.0, label = 'W init = 17 pA')\n",
    "ax.plot(spikes_timing, grad_w50_perc, c = 'r', linewidth=3.0, label = 'W init = 50 pA')\n",
    "ax.plot(spikes_timing, grad_w100_perc, c = 'g', linewidth=3.0, label = 'W init = 100 pA')\n",
    "ax.tick_params(axis=\"x\", labelsize=20)\n",
    "ax.tick_params(axis=\"y\", labelsize=20)\n",
    "ax.set_ylim(-55,105)\n",
    "ax.legend()\n",
    "ax.grid()\n",
    "plt.show()"
   ]
  },
  {
   "cell_type": "code",
   "execution_count": null,
   "metadata": {},
   "outputs": [],
   "source": [
    "## ATP dependent STDP Rules parameters\n",
    "tau_up = 20\n",
    "tau_down = 20\n",
    "lam = 0.1\n",
    "alpha = .11\n",
    "mu = 0.4"
   ]
  },
  {
   "cell_type": "code",
   "execution_count": null,
   "metadata": {},
   "outputs": [],
   "source": [
    "def stimuli_60s_e(w_ini, spikes_timing, A, dep):\n",
    "    grad_w = []\n",
    "    grad_w_perc = []\n",
    "    for d_time in spikes_timing:\n",
    "        grad_w_temp = []\n",
    "        w = w_ini\n",
    "        grad_w_temp.append(w)\n",
    "        if abs(d_time) < 2:\n",
    "            w = np.nan\n",
    "            grad_w_temp.append(w)\n",
    "        for _ in range(0, 61):\n",
    "            grad_w_temp.append(delta_e_w(w, d_time, lam, alpha, mu, A, dep))\n",
    "            w+=grad_w_temp[-1]\n",
    "        grad_w.append(w)\n",
    "        grad_w_perc.append((w - w_ini)/w_ini*100)\n",
    "    return grad_w_perc"
   ]
  },
  {
   "cell_type": "code",
   "execution_count": null,
   "metadata": {},
   "outputs": [],
   "source": [
    "spikes_timing = np.linspace(-100,100,200)\n",
    "w_ini = 50\n",
    "A = 8\n",
    "grad_w50_A8_perc = stimuli_60s_e(w_ini, spikes_timing, A, 'lam')\n",
    "w_ini = 50\n",
    "A = 20\n",
    "grad_w50_A20_perc = stimuli_60s_e(w_ini, spikes_timing, A, 'lam')\n",
    "w_ini = 50\n",
    "A = 30\n",
    "grad_w50_A30_perc = stimuli_60s_e(w_ini, spikes_timing, A, 'lam')"
   ]
  },
  {
   "cell_type": "code",
   "execution_count": null,
   "metadata": {},
   "outputs": [],
   "source": [
    "fig = plt.figure(figsize = (8,6))\n",
    "ax = fig.add_subplot(111)\n",
    "ax.axvspan(-20, 20, color = \"0.9\")\n",
    "ax.set_xlabel('time (ms)', fontsize=18)\n",
    "ax.set_ylabel('PSC change [%]', fontsize=18)\n",
    "plt.title('STDP: 60 seg 1 Hz stimulation. dependence in $\\lambda : = \\lambda(A)$', fontsize=20)\n",
    "ax.plot(spikes_timing, grad_w50_A8_perc, c = 'r', linestyle = '--' , linewidth=3.0, label = 'A = 8 mM')\n",
    "ax.plot(spikes_timing, grad_w50_A20_perc, c = 'r', linestyle = '-.', linewidth=3.0, label = 'A = 20 mM')\n",
    "ax.plot(spikes_timing, grad_w50_A30_perc, c = 'r', linestyle = ':', linewidth=3.0, label = 'A = 30 mM')\n",
    "ax.tick_params(axis=\"x\", labelsize=20)\n",
    "ax.tick_params(axis=\"y\", labelsize=20)\n",
    "ax.legend()\n",
    "ax.grid()\n",
    "plt.show()"
   ]
  },
  {
   "cell_type": "code",
   "execution_count": null,
   "metadata": {},
   "outputs": [],
   "source": [
    "spikes_timing = np.linspace(-100,100,200)\n",
    "w_ini = 50\n",
    "A = 8\n",
    "grad_w50_A8_perc = stimuli_60s_e(w_ini, spikes_timing, A, 'mu')\n",
    "w_ini = 50\n",
    "A = 20\n",
    "grad_w50_A20_perc = stimuli_60s_e(w_ini, spikes_timing, A, 'mu')\n",
    "w_ini = 50\n",
    "A = 30\n",
    "grad_w50_A30_perc = stimuli_60s_e(w_ini, spikes_timing, A, 'mu')"
   ]
  },
  {
   "cell_type": "code",
   "execution_count": null,
   "metadata": {},
   "outputs": [],
   "source": [
    "fig = plt.figure(figsize = (8,6))\n",
    "ax = fig.add_subplot(111)\n",
    "ax.axvspan(-20, 20, color = \"0.9\")\n",
    "ax.set_xlabel('time (ms)', fontsize=18)\n",
    "ax.set_ylabel('PSC change [%]', fontsize=18)\n",
    "plt.title(r'STDP: 60 seg 1 Hz stimulation. dependence in $\\mu:=\\mu(A)$', fontsize=20)\n",
    "ax.plot(spikes_timing, grad_w50_A8_perc, c = 'r', linestyle = '--' , linewidth=3.0, label = 'A = 8 mM')\n",
    "ax.plot(spikes_timing, grad_w50_A20_perc, c = 'r', linestyle = '-.', linewidth=3.0, label = 'A = 20 mM')\n",
    "ax.plot(spikes_timing, grad_w50_A30_perc, c = 'r', linestyle = ':', linewidth=3.0, label = 'A = 30 mM')\n",
    "ax.tick_params(axis=\"x\", labelsize=20)\n",
    "ax.tick_params(axis=\"y\", labelsize=20)\n",
    "ax.legend()\n",
    "ax.grid()\n",
    "plt.show()"
   ]
  },
  {
   "cell_type": "code",
   "execution_count": null,
   "metadata": {},
   "outputs": [],
   "source": [
    "def stimuli_60s_sngl(w_ini, spikes_timing, A):\n",
    "    grad_w = []\n",
    "    grad_w_perc = []\n",
    "    for d_time in spikes_timing:\n",
    "        grad_w_temp = []\n",
    "        w = w_ini\n",
    "        grad_w_temp.append(w)\n",
    "        if abs(d_time) < 2:\n",
    "            w = np.nan\n",
    "            grad_w_temp.append(w)\n",
    "        for _ in range(0, 61):\n",
    "            grad_w_temp.append(delta_w(w, d_time, lam, alpha, mu))\n",
    "            w+=grad_w_temp[-1]\n",
    "        grad_w.append(w)\n",
    "        grad_w_perc.append((w - w_ini)/w_ini*100)\n",
    "    return grad_w_perc"
   ]
  },
  {
   "cell_type": "code",
   "execution_count": null,
   "metadata": {},
   "outputs": [],
   "source": [
    "fig = plt.figure(figsize = (8,6))\n",
    "ax = fig.add_subplot(111, projection='3d')\n",
    "ax.set_xlabel('time (ms)', fontsize=12)\n",
    "#ax.set_ylabel('glucose [mM]', fontsize=18)\n",
    "ax.set_ylabel('[ATP] (mM)', fontsize=12)\n",
    "ax.set_zlabel('PSC change (%)', fontsize=12)\n",
    "\n",
    "x = np.linspace(-100,100,200)\n",
    "#y = np.linspace(8,50,30)  # Glucose\n",
    "y = np.linspace(0.001,.1,30)  # ATP\n",
    "X, Y = np.meshgrid(x, y)\n",
    "zs = []\n",
    "for A in y:\n",
    "    zs.append(stimuli_60s_sngl(50, x, A))\n",
    "zs = np.array(zs)\n",
    "Z = zs.reshape(X.shape)\n",
    "\n",
    "surf = ax.plot_surface(X, Y, Z, rstride=5, cstride=5, cmap='cool', alpha=.6,\n",
    "                        linewidth=0, antialiased=True, vmin=np.nanmin(Z), vmax=np.nanmax(Z))\n",
    "\n",
    "ax.plot_wireframe(X, Y, Z, rstride=5, cstride=5)\n",
    "plt.title(r'STDP: 60 seg 1 Hz stimulation. Classic', fontsize=20)\n",
    "ax.tick_params(axis=\"x\", labelsize=10)\n",
    "ax.tick_params(axis=\"y\", labelsize=10)\n",
    "ax.tick_params(axis=\"z\", labelsize=10)\n",
    "\n",
    "plt.show()"
   ]
  },
  {
   "cell_type": "code",
   "execution_count": null,
   "metadata": {},
   "outputs": [],
   "source": [
    "def stimuli_60s_e_sngl(w_ini, spikes_timing, A, dep):\n",
    "    grad_w = []\n",
    "    grad_w_perc = []\n",
    "    for d_time in spikes_timing:\n",
    "        grad_w_temp = []\n",
    "        w = w_ini\n",
    "        grad_w_temp.append(w)\n",
    "        if abs(d_time) < 2:\n",
    "            w = np.nan\n",
    "            grad_w_temp.append(w)\n",
    "        for _ in range(0, 61):\n",
    "            grad_w_temp.append(delta_e_w(w, d_time, lam, alpha, mu, A, dep))\n",
    "            w+=grad_w_temp[-1]\n",
    "        grad_w.append(w)\n",
    "        grad_w_perc.append((w - w_ini)/w_ini*100)\n",
    "    return grad_w_perc"
   ]
  },
  {
   "cell_type": "code",
   "execution_count": null,
   "metadata": {},
   "outputs": [],
   "source": [
    "fig = plt.figure(figsize = (8,6))\n",
    "ax = fig.add_subplot(111, projection='3d')\n",
    "ax.set_xlabel('time (ms)', fontsize=12)\n",
    "#ax.set_ylabel('glucose [mM]', fontsize=18)\n",
    "ax.set_ylabel('[ATP] (mM)', fontsize=12)\n",
    "ax.set_zlabel('PSC change (%)', fontsize=12)\n",
    "\n",
    "x = np.linspace(-100,100,200)\n",
    "#y = np.linspace(8,50,30)  # Glucose\n",
    "y = np.linspace(0.001,.1,30)  # ATP\n",
    "X, Y = np.meshgrid(x, y)\n",
    "zs = []\n",
    "for A in y:\n",
    "    zs.append(stimuli_60s_e_sngl(50, x, A, 'lam'))  # Only lam\n",
    "    #zs.append(stimuli_60s_e_sngl(50, x, A, 'lam_up&alpha_down'))  # lam and alpha\n",
    "zs = np.array(zs)\n",
    "Z = zs.reshape(X.shape)\n",
    "\n",
    "surf = ax.plot_surface(X, Y, Z, rstride=5, cstride=5, cmap='cool', alpha=.6,\n",
    "                        linewidth=0, antialiased=True, vmin=np.nanmin(Z), vmax=np.nanmax(Z))\n",
    "\n",
    "ax.plot_wireframe(X, Y, Z, rstride=5, cstride=5)\n",
    "plt.title(r'STDP: 60 seg 1 Hz stimulation. dependence in $\\lambda:=\\lambda(A)$', fontsize=20)\n",
    "ax.tick_params(axis=\"x\", labelsize=10)\n",
    "ax.tick_params(axis=\"y\", labelsize=10)\n",
    "ax.tick_params(axis=\"z\", labelsize=10)\n",
    "\n",
    "plt.show()"
   ]
  },
  {
   "cell_type": "code",
   "execution_count": null,
   "metadata": {},
   "outputs": [],
   "source": [
    "fig = plt.figure(figsize = (8,6))\n",
    "ax = fig.add_subplot(111, projection='3d')\n",
    "ax.set_xlabel('time (ms)', fontsize=12)\n",
    "#ax.set_ylabel('glucose [mM]', fontsize=18)\n",
    "ax.set_ylabel('[ATP] (mM)', fontsize=12)\n",
    "ax.set_zlabel('PSC change [%]', fontsize=12)\n",
    "\n",
    "x = np.linspace(-100,100,200)\n",
    "#y = np.linspace(8,30,30)  # Glucose\n",
    "y = np.linspace(0.001,.1,30)  # ATP\n",
    "X, Y = np.meshgrid(x, y)\n",
    "zs = []\n",
    "for A in y:\n",
    "    zs.append(stimuli_60s_e_sngl(50, x, A, 'mu'))\n",
    "zs = np.array(zs)\n",
    "Z = zs.reshape(X.shape)\n",
    "\n",
    "surf = ax.plot_surface(X, Y, Z, rstride=5, cstride=5, cmap='cool', alpha=.6,\n",
    "                        linewidth=0, antialiased=True, vmin=np.nanmin(Z), vmax=np.nanmax(Z))\n",
    "\n",
    "ax.plot_wireframe(X, Y, Z, rstride=5, cstride=5)\n",
    "plt.title(r'STDP: 60 seg 1 Hz stimulation. dependence in $\\mu:=\\mu(A)$', fontsize=20)\n",
    "ax.tick_params(axis=\"x\", labelsize=10)\n",
    "ax.tick_params(axis=\"y\", labelsize=10)\n",
    "ax.tick_params(axis=\"z\", labelsize=10)\n",
    "\n",
    "plt.show()"
   ]
  },
  {
   "cell_type": "code",
   "execution_count": null,
   "metadata": {},
   "outputs": [],
   "source": [
    "A = np.linspace(0.001,.2,30)\n",
    "intns = 2\n",
    "x = intns*(A - G_h)/G_h\n",
    "print(lam)\n",
    "lm = .4\n",
    "lam_n = lam + (lm/(1 + np.exp(-x)) - lm/2)\n",
    "lam_n = lam_n*(lam_n>=0)\n",
    "fig = plt.figure(figsize = (8,6))\n",
    "ax = fig.add_subplot(111)\n",
    "ax.plot(A, lam_n)\n",
    "ax.plot(A, np.ones(len(lam_n))*lam)\n",
    "print(lam_n)"
   ]
  },
  {
   "cell_type": "code",
   "execution_count": null,
   "metadata": {},
   "outputs": [],
   "source": [
    "A = np.linspace(0.001,.2,30)\n",
    "intns = 3\n",
    "x = intns*(A - G_h)/G_h\n",
    "m = .2\n",
    "print(mu)\n",
    "mu_n = mu + (m/(1 + np.exp(-x)) - m/2)\n",
    "fig = plt.figure(figsize = (8,6))\n",
    "ax = fig.add_subplot(111)\n",
    "ax.plot(A, mu_n)\n",
    "ax.plot(A, np.ones(len(mu_n))*mu)\n",
    "print(lam_n)"
   ]
  },
  {
   "cell_type": "code",
   "execution_count": null,
   "metadata": {},
   "outputs": [],
   "source": [
    "A = np.linspace(0.001,.2,30)\n",
    "intns = 2.2\n",
    "x = intns*(A - G_h)/G_h\n",
    "a = -.2\n",
    "print(alpha)\n",
    "alpha_n = alpha + (a/(1 + np.exp(-x)) - a/2)\n",
    "fig = plt.figure(figsize = (8,6))\n",
    "ax = fig.add_subplot(111)\n",
    "ax.plot(A, alpha_n)\n",
    "ax.plot(A, np.ones(len(alpha_n))*alpha)\n",
    "print(alpha_n)"
   ]
  },
  {
   "cell_type": "code",
   "execution_count": null,
   "metadata": {},
   "outputs": [],
   "source": []
  },
  {
   "cell_type": "code",
   "execution_count": null,
   "metadata": {},
   "outputs": [],
   "source": []
  }
 ],
 "metadata": {
  "kernelspec": {
   "display_name": "Python 3 (ipykernel)",
   "language": "python",
   "name": "python3"
  },
  "language_info": {
   "codemirror_mode": {
    "name": "ipython",
    "version": 3
   },
   "file_extension": ".py",
   "mimetype": "text/x-python",
   "name": "python",
   "nbconvert_exporter": "python",
   "pygments_lexer": "ipython3",
   "version": "3.10.4"
  }
 },
 "nbformat": 4,
 "nbformat_minor": 4
}
