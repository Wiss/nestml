{
 "cells": [
  {
   "cell_type": "markdown",
   "id": "d5907196",
   "metadata": {},
   "source": [
    "# Energy-dependent third-factor STDP\n",
    "\n",
    "### Idea\n",
    "<img src=img/3f-stdp.png width=\"300\" />\n",
    "\n",
    "Based on [*Wyatt et al., 2010: Metabolic Regulation of Neuronal Plasticity by the Energy Sensor AMPK*](https://journals.plos.org/plosone/article?id=10.1371/journal.pone.0008996)\n",
    "<img src=img/wyatt_fig3.png width=\"600\" />\n",
    "#### TODO\n",
    "- [] Read references\n",
    "    + []Guetig et al. (2003). Learning input correlations through nonlinear temporally asymmetric hebbian plasticity. Journal of Neuroscience, 23:3697-3714 DOI: https://doi.org/10.1523/JNEUROSCI.23-09-03697.2003\n",
    "    + [] Rubin J, Lee D, Sompolinsky H (2001). Equilibrium properties of temporally asymmetric Hebbian plasticity. Physical Review Letters, 86:364-367. DOI: https://doi.org/10.1103/PhysRevLett.86.364\n",
    "    + [] Song S, Miller KD, Abbott LF (2000). Competitive Hebbian learning through spike-timing-dependent synaptic plasticity. Nature Neuroscience 3(9):919-926. DOI: https://doi.org/10.1038/78829\n",
    "    + [] van Rossum MCW, Bi G-Q, Turrigiano GG (2000). Stable Hebbian learning from spike timing-dependent plasticity. Journal of Neuroscience, 20(23):8812-8821. DOI: https://doi.org/10.1523/JNEUROSCI.20-23-08812.2000\n"
   ]
  },
  {
   "cell_type": "code",
   "execution_count": 1,
   "id": "d9eb3013",
   "metadata": {},
   "outputs": [
    {
     "name": "stdout",
     "output_type": "stream",
     "text": [
      "\n",
      "              -- N E S T --\n",
      "  Copyright (C) 2004 The NEST Initiative\n",
      "\n",
      " Version: 3.3\n",
      " Built: Mar 23 2022 13:33:55\n",
      "\n",
      " This program is provided AS IS and comes with\n",
      " NO WARRANTY. See the file LICENSE for details.\n",
      "\n",
      " Problems or suggestions?\n",
      "   Visit https://www.nest-simulator.org\n",
      "\n",
      " Type 'nest.help()' to find out more about NEST.\n",
      "\n"
     ]
    }
   ],
   "source": [
    "%matplotlib inline\n",
    "import matplotlib.pyplot as plt\n",
    "import nest\n",
    "import numpy as np\n",
    "import os\n",
    "\n",
    "from pynestml.frontend.pynestml_frontend import generate_nest_target\n",
    "\n",
    "NEST_SIMULATOR_INSTALL_LOCATION = nest.ll_api.sli_func(\"statusdict/prefix ::\")"
   ]
  },
  {
   "cell_type": "markdown",
   "id": "ba7132bb",
   "metadata": {},
   "source": [
    "## Preliminaries\n",
    "\n",
    "Experiments have shown that synaptic strength changes as a function of the precise spike timing of the presynaptic and postsynaptic neurons. If the pre neuron fires an action potential strictly before the post neuron, the synapse connecting them will be strengthened (“facilitated”). If the pre neuron fires after the post neuron, the synapse will be weakened (“depressed”). The depression and facilitation effects become stronger when the spikes occurred closer together in time. This is illustrated by empirical results (open circles), fitted by exponential curves (solid lines).\n",
    "\n",
    "\n",
    "<div>\n",
    "<img src=\"img\\bi&poo.png\" width=\"500\">\n",
    "</div>\n",
    "\n",
    "*Asymmetric STDP learning window. Spike-timing window of STDP for the induction of synaptic potentiation and depression characterized in hippocampal cultures. Data points from Bi and Poo (1998) [18], represent the relative change in the amplitude of EPSC after repetitive correlated activity of pre-post spike pairs. The LTP (+) and LTD (-) windows are fitted by the exponential function ∆g = A ± exp(−|∆t|/τ), with parameters A + = 0.86, A − = −0.25, τ + = 19 ms, and τ − = 34 ms. Adopted from Bi and Wang (2002).*\n",
    "\n",
    "We will define the theoretical model following:\n",
    "Rubin, Lee and Sompolinsky. Equilibrium Properties of Temporally Asymmetric Hebbian Plasticity. Physical Review Letters, 8 Jan 2001, Vol 86, No 2 http://doi.org/10.1103/PhysRevLett.86.364\n",
    "\n",
    "A pair of spikes in the input and the output cell, at times $t_i$ and $t_j$ respectively, induces a change $\\Delta w$ in the weight $w$:\n",
    "\n",
    "\\begin{equation}\n",
    "\\Delta^\\pm w = \\pm \\lambda \\cdot f_\\pm(w) \\cdot K(|t_o - t_i|)\n",
    "\\end{equation}\n",
    "\n",
    "The weight is increased by $\\Delta^+ w$ when $t_o>t_i$ and decreased by $\\Delta^- w$ when $t_i>t_o$. The temporal dependence of the update is defined by the filter kernel $K$ which is taken to be $K(t) = \\exp(-t/\\tau)$. The coefficient $\\lambda\\in\\mathbb{R}$ sets the magnitude of the update. The functions $f_\\pm(w)$ determine the relative magnitude of the changes in the positive and negative direction. These are here taken as\n",
    "\n",
    "\\begin{align}\n",
    "f_+(w) &= (1 - w)^{\\mu_+}\\\\\n",
    "f_-(w) &= \\alpha w^{\\mu_-}\n",
    "\\end{align}\n",
    "\n",
    "with the parameter $\\alpha\\in\\mathbb{R}, \\alpha>0$ allowing to set an asymmetry between increasing and decreasing the synaptic efficacy, and $\\mu_\\pm\\in\\{0,1\\}$ allowing to choose between four different kinds of STDP (for references, see https://nest-simulator.readthedocs.io/en/v2.18.0/models/stdp.html#_CPPv4I0EN4nest14STDPConnectionE).\n",
    "\n",
    "To implement the kernel, we use two extra state variables to keep track of recent spiking activity. These could correspond to calcium concentration in biology. One presynaptic trace value and another postsynaptic trace value is used, for pre- and post spiking, respectively. These maintain a history of neuron spikes, being incremented by 1 whenever a spike is generated, and decaying back to zero exponentially; in other words, a convolution between the exponentially decaying kernel and the emitted spike train:\n",
    "\n",
    "\\begin{equation}\n",
    "\\text{tr_pre} = K \\ast \\sum_i \\delta_{pre,i}\n",
    "\\end{equation}\n",
    "\n",
    "and\n",
    "\n",
    "\\begin{equation}\n",
    "\\text{tr_post} = K \\ast \\sum_i \\delta_{post,i}\n",
    "\\end{equation}\n",
    "\n",
    "These are implemented in the NESTML model as follows:\n",
    "\n",
    "```\n",
    "  equations:\n",
    "    # all-to-all trace of presynaptic neuron\n",
    "    kernel pre_tr_kernel = exp(-t / tau_tr_pre)\n",
    "    inline pre_tr real = convolve(pre_tr_kernel, pre_spikes)\n",
    "\n",
    "    # all-to-all trace of postsynaptic neuron\n",
    "    kernel post_tr_kernel = exp(-t / tau_tr_post)\n",
    "    inline post_tr real = convolve(post_tr_kernel, post_spikes)\n",
    "end\n",
    "```\n",
    "\n",
    "with time constants defined as parameters:\n",
    "\n",
    "```\n",
    "   parameters:\n",
    "     tau_tr_pre ms = 20 ms\n",
    "     tau_tr_post ms = 20 ms\n",
    "   end\n",
    "```\n",
    "\n",
    "With the traces in place, the weight updates can then be expressed closely following the mathematical definitions.\n",
    "\n",
    "Begin by defining the weight and its initial value:\n",
    "\n",
    "```\n",
    "   state:\n",
    "     w real = 1.\n",
    "   end\n",
    "```\n",
    "\n",
    "The update rule for facilitation:\n",
    "\n",
    "\\begin{equation}\n",
    "\\Delta^+ w = \\lambda \\cdot (1 - w)^{\\mu+} \\cdot \\text{pre_trace}\n",
    "\\end{equation}\n",
    "\n",
    "In NESTML, this rule is written in the `onReceive` event handler block. Statements in this block will be executed when the event occurs: in this case, receiving a presynaptic spike. In NESTML, additional scaling with an absolute maximum weight ``Wmax`` is added.\n",
    "\n",
    "```\n",
    "   onReceive(post_spikes):\n",
    "     # potentiate synapse\n",
    "     w_ real = Wmax * ( w / Wmax  + (lambda * ( 1. - ( w / Wmax ) )**mu_plus * pre_trace ))\n",
    "     w = min(Wmax, w_)\n",
    "   end\n",
    "```\n",
    "\n",
    "The update rule for depression :\n",
    "\n",
    "\\begin{equation}\n",
    "\\Delta^- w = -\\alpha \\cdot \\lambda \\cdot w^{\\mu_-} \\cdot \\text{post_trace}\n",
    "\\end{equation}\n",
    "\n",
    "```\n",
    "   onReceive(pre_spikes):\n",
    "     # depress synapse\n",
    "     w_ real = Wmax * ( w / Wmax  - ( alpha * lambda * ( w / Wmax )**mu_minus * post_trace ))\n",
    "     w = max(Wmin, w_)\n",
    "\n",
    "     # deliver spike to postsynaptic partner\n",
    "     deliver_spike(w, d)\n",
    "   end\n",
    "```\n",
    "\n",
    "Finally, the remaining parameters are defined:\n",
    "\n",
    "```\n",
    "   parameters:\n",
    "     lambda real = .01\n",
    "     alpha real = 1.\n",
    "     mu_plus real = 1.\n",
    "     mu_minus real = 1.\n",
    "     Wmax real = 100.\n",
    "     Wmin real = 0.\n",
    "   end\n",
    "```\n"
   ]
  },
  {
   "cell_type": "code",
   "execution_count": 49,
   "id": "5cd812d5",
   "metadata": {},
   "outputs": [],
   "source": [
    "def delta_w(lam, mu_p, mu_m, alpha, delta_t, w, tau_up, tau_down):\n",
    "    # delta_t = t_o - t_i\n",
    "    min_delta_t = 0 # ms\n",
    "    max_w = 100\n",
    "    if abs(delta_t) <= min_delta_t:\n",
    "        if w >= 0:\n",
    "            d_w = -w # so w = w + d_w => w = 0\n",
    "    elif delta_t > min_delta_t:\n",
    "        # facilitation\n",
    "        d_w = min(lam*(1-w)**mu_p*np.exp(-abs(delta_t)/tau_up), max_w)\n",
    "    elif delta_t < min_delta_t:\n",
    "        # depression\n",
    "        d_w = -alpha*lam*w**mu_m*np.exp(-abs(delta_t)/tau_down) \n",
    "    return d_w "
   ]
  },
  {
   "cell_type": "code",
   "execution_count": 69,
   "id": "8ac12eb0",
   "metadata": {},
   "outputs": [],
   "source": [
    "## Standar STDP Rules parameters\n",
    "tau_up = 20\n",
    "tau_down = 20\n",
    "lam = 0.2\n",
    "alpha = 0.5\n",
    "mu_p = 0.2\n",
    "mu_m = 0.9"
   ]
  },
  {
   "cell_type": "code",
   "execution_count": 70,
   "id": "e60fbeb1",
   "metadata": {},
   "outputs": [
    {
     "name": "stdout",
     "output_type": "stream",
     "text": [
      "iter: 0, delta_d: -80.0, w_init: 0.5\n",
      "iter: 0, delta_d: -80.0, w_end: 0.4722304174198699, d_w_tot: -0.027720382420706843\n",
      "iter: 10, delta_d: -48.0, w_init: 0.5\n",
      "iter: 10, delta_d: -48.0, w_end: 0.37513908326776824, d_w_tot: -0.12375322045483633\n",
      "iter: 20, delta_d: -16.0, w_init: 0.5\n",
      "iter: 20, delta_d: -16.0, w_end: 0.10681790995351935, d_w_tot: -0.3751058117343484\n",
      "iter: 30, delta_d: 16.0, w_init: 0.5\n",
      "iter: 30, delta_d: 16.0, w_end: nan, d_w_tot: nan\n",
      "iter: 40, delta_d: 48.0, w_init: 0.5\n",
      "iter: 40, delta_d: 48.0, w_end: 0.9058633558279452, d_w_tot: 0.401378765080311\n",
      "iter: 50, delta_d: 80.0, w_init: 0.5\n",
      "iter: 50, delta_d: 80.0, w_end: 0.5907623109386511, d_w_tot: 0.09063707973370154\n"
     ]
    },
    {
     "name": "stderr",
     "output_type": "stream",
     "text": [
      "/tmp/ipykernel_56158/816715261.py:10: RuntimeWarning:invalid value encountered in double_scalars\n"
     ]
    }
   ],
   "source": [
    "#delta_t = t_o - t_i\n",
    "delta_t = np.linspace(-80,80,51)\n",
    "iters_n = 30\n",
    "w_init = 0.5\n",
    "w_all = []\n",
    "d_w_tot = []\n",
    "for k, d_t in enumerate(delta_t):\n",
    "    for n in range(iters_n):\n",
    "        if n == 0:\n",
    "            w = w_init\n",
    "            d_w_end = 0\n",
    "            if k%10 == 0:\n",
    "                print(f\"iter: {k}, delta_d: {d_t}, w_init: {w}\")\n",
    "        else:\n",
    "            w += delta_w(lam, mu_p, mu_m, alpha, d_t, w, tau_up, tau_down)\n",
    "            d_w_end += delta_w(lam, mu_p, mu_m, alpha, d_t, w, tau_up, tau_down)\n",
    "        if n == iters_n -1:\n",
    "            d_w_tot.append(d_w_end)\n",
    "    if k%10 == 0:\n",
    "        print(f\"iter: {k}, delta_d: {d_t}, w_end: {w}, d_w_tot: {d_w_tot[-1]}\")\n",
    "    w_all.append(w)\n",
    "    \n",
    "#print(delta_t)\n",
    "#print(w_all)\n",
    "#print(d_w_tot)"
   ]
  },
  {
   "cell_type": "code",
   "execution_count": 71,
   "id": "82117e62",
   "metadata": {},
   "outputs": [
    {
     "data": {
      "text/plain": [
       "[<matplotlib.lines.Line2D at 0x7f0f5421a590>]"
      ]
     },
     "execution_count": 71,
     "metadata": {},
     "output_type": "execute_result"
    },
    {
     "data": {
      "image/png": "[encoded data removed]",
      "text/plain": [
       "<Figure size 432x288 with 1 Axes>"
      ]
     },
     "metadata": {
      "needs_background": "light"
     },
     "output_type": "display_data"
    }
   ],
   "source": [
    "plt.plot(delta_t, d_w_tot)"
   ]
  }
 ],
 "metadata": {
  "kernelspec": {
   "display_name": "Python 3 (ipykernel)",
   "language": "python",
   "name": "python3"
  },
  "language_info": {
   "codemirror_mode": {
    "name": "ipython",
    "version": 3
   },
   "file_extension": ".py",
   "mimetype": "text/x-python",
   "name": "python",
   "nbconvert_exporter": "python",
   "pygments_lexer": "ipython3",
   "version": "3.10.4"
  }
 },
 "nbformat": 4,
 "nbformat_minor": 5
}
