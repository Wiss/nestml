{
 "cells": [
  {
   "cell_type": "markdown",
   "id": "d5907196",
   "metadata": {},
   "source": [
    "# Energy-dependent third-factor STDP\n",
    "\n",
    "Lets bombard one edlif neuron with multiple poisson processes"
   ]
  },
  {
   "cell_type": "code",
   "execution_count": 1,
   "id": "d9eb3013",
   "metadata": {},
   "outputs": [
    {
     "name": "stderr",
     "output_type": "stream",
     "text": [
      "<frozen importlib._bootstrap>:241: RuntimeWarning: compiletime version 3.8 of module 'pynestkernel' does not match runtime version 3.1\n",
      "<frozen importlib._bootstrap>:241: RuntimeWarning: builtins.type size changed, may indicate binary incompatibility. Expected 880 from C header, got 888 from PyObject\n"
     ]
    },
    {
     "name": "stdout",
     "output_type": "stream",
     "text": [
      "\n",
      "              -- N E S T --\n",
      "  Copyright (C) 2004 The NEST Initiative\n",
      "\n",
      " Version: master@61f08e0ea\n",
      " Built: Jul 14 2022 17:28:07\n",
      "\n",
      " This program is provided AS IS and comes with\n",
      " NO WARRANTY. See the file LICENSE for details.\n",
      "\n",
      " Problems or suggestions?\n",
      "   Visit https://www.nest-simulator.org\n",
      "\n",
      " Type 'nest.help()' to find out more about NEST.\n",
      "\n"
     ]
    }
   ],
   "source": [
    "%matplotlib inline\n",
    "import matplotlib.pyplot as plt\n",
    "import nest\n",
    "import numpy as np\n",
    "import re\n",
    "import os\n",
    "\n",
    "from pynestml.frontend.pynestml_frontend import generate_nest_target\n",
    "\n",
    "NEST_SIMULATOR_INSTALL_LOCATION = nest.ll_api.sli_func(\"statusdict/prefix ::\")"
   ]
  },
  {
   "cell_type": "markdown",
   "id": "e1f284fd",
   "metadata": {},
   "source": [
    "## Generating code with NESTML\n",
    "\n",
    "### Formulating the model in NESTML\n",
    "\n",
    "To generate fast code, NESTML needs to process the synapse model together with the neuron model that will be its postsynaptic partner in the network instantiantion.\n",
    "\n",
    "In this tutorial, we will use a very simple integrate-and-fire model, where arriving spikes cause an instantaneous increment of the membrane potential. Let's download the model from the NESTML repository so it becomes available locally:"
   ]
  },
  {
   "cell_type": "markdown",
   "id": "47d7da8e",
   "metadata": {},
   "source": [
    "### Running the simulation in NEST\n",
    "\n",
    "Let's define a function that will instantiate a simple network with one presynaptic cell and one postsynaptic cell connected by a single synapse, then run a simulation and plot the results."
   ]
  },
  {
   "cell_type": "code",
   "execution_count": 2,
   "id": "b15d6439",
   "metadata": {},
   "outputs": [
    {
     "name": "stdout",
     "output_type": "stream",
     "text": [
      "\n",
      "Oct 06 19:17:37 Install [Info]: \n",
      "    loaded module edlif_psc_alpha_0_module\n"
     ]
    }
   ],
   "source": [
    "module_name = \"edlif_psc_alpha_0_module\"\n",
    "nest.Install(module_name)"
   ]
  },
  {
   "cell_type": "code",
   "execution_count": 3,
   "id": "84525579",
   "metadata": {},
   "outputs": [],
   "source": [
    "def experiment(seed: int = 1,\n",
    "              poisson_rate: float = 100,\n",
    "              n_pre_neurons: int = 1000,\n",
    "              mean_current: float = 545,\n",
    "              std_current: float = 40,\n",
    "              neuron_model: str = \"edlif_psc_alpha_percent0_nestml__with_ed_stdp0_nestml\",\n",
    "              syn_spec: dict = {\"synapse_model\": \"ed_stdp0_nestml__with_edlif_psc_alpha_percent0_nestml\",\n",
    "                               \"alpha\": 0.5,\n",
    "                               \"mu_minus\": 0,\n",
    "                               \"mu_plus\": 0,\n",
    "                               \"lambda\": 0.01,\n",
    "                               \"eta\": 20},\n",
    "              sim_time: float = 2000):\n",
    "    # reset kernel\n",
    "    nest.ResetKernel()\n",
    "    # set seeds\n",
    "    nest.rng_seed = seed\n",
    "    np.random.seed(seed)\n",
    "    # create neurons\n",
    "    neuron_post = nest.Create(neuron_model)\n",
    "    neuron_pre = nest.Create(neuron_model, n_pre_neurons)\n",
    "    # set neurons params\n",
    "    for n in neuron_pre:\n",
    "        n.I_e = np.random.normal(mean_current, std_current)\n",
    "    #neuron_pre = nest.Create(\"poisson_generator\", {\"rate\": poisson_rate})\n",
    "    for neuron in [neuron_pre, neuron_post]:\n",
    "        neuron.tau_m = 20 #20\n",
    "        neuron.tau_syn_ex = 6\n",
    "        neuron.tau_syn_in = 6\n",
    "        neuron.C_m = 250 #250\n",
    "        neuron.t_ref = 8 #2\n",
    "        # energy params\n",
    "        neuron.K_ATP = 1\n",
    "        neuron.gamma = 178\n",
    "        neuron.tau_ap = 100\n",
    "        neuron.E_ap = 8\n",
    "        neuron.E_rp = 5\n",
    "        neuron.E_hk = 5\n",
    "        neuron.E_syn_ex = 4\n",
    "        neuron.E_syn_in = 4\n",
    "        neuron.tau_syn_atp_ex = 100\n",
    "        neuron.tau_syn_atp_ex = 100\n",
    "\n",
    "    \n",
    "    # recorders\n",
    "    sr_post = nest.Create(\"spike_recorder\")\n",
    "    nest.Connect(neuron_post, sr_post)\n",
    "    sr_pre = nest.Create(\"spike_recorder\")\n",
    "    nest.Connect(neuron_pre, sr_pre)\n",
    "    mult = nest.Create('multimeter',\n",
    "                      params={\"record_from\": [\"ATP\"]})\n",
    "    nest.Connect(mult, neuron_post)\n",
    "    wr = nest.Create(\"weight_recorder\")\n",
    "    nest.CopyModel(syn_spec[\"synapse_model\"], \"w_record\", \n",
    "                  {\"weight_recorder\": wr})\n",
    "    nest.Connect(neuron_pre, neuron_post, \n",
    "                 syn_spec={\"synapse_model\": \"w_record\"})\n",
    "    syn = nest.GetConnections(source=neuron_pre,\n",
    "                         target=neuron_post,\n",
    "                         synapse_model=\"w_record\")\n",
    "    #print(syn)\n",
    "    for param, value in syn_spec.items():\n",
    "        if param != \"synapse_model\":\n",
    "            nest.SetStatus(syn, {param: value})\n",
    "    nest.Simulate(sim_time)\n",
    "    sr_pre = sr_pre.get(\"events\")\n",
    "    sr_post = sr_post.get(\"events\")\n",
    "    mult = mult.get(\"events\")\n",
    "    wr = wr.get(\"events\")\n",
    "    fin_weights = nest.GetConnections(source=neuron_pre,\n",
    "                                     target=neuron_post)\n",
    "    return sr_pre, sr_post, mult, wr, fin_weights.get('w')"
   ]
  },
  {
   "cell_type": "code",
   "execution_count": 13,
   "id": "fbc99d1d",
   "metadata": {},
   "outputs": [],
   "source": [
    "def plots(sr_pre, sr_post, fr, mult, wr, eta, fin_weights, eq_energy_level):\n",
    "    plt.figure()\n",
    "    plt.title(fr\"$\\eta$ = {eta}\")\n",
    "    plt.xlabel(\"time (ms)\")\n",
    "    plt.ylabel(\"ID\")\n",
    "    plt.plot(sr_pre['times'], sr_pre['senders'], '.', alpha=0.5)\n",
    "\n",
    "    plt.figure()\n",
    "    plt.title(fr\"$\\eta$ = {eta}\") \n",
    "    plt.xlabel(\"time (ms)\")\n",
    "    plt.ylabel(\"ID\")\n",
    "    plt.plot(sr_post['times'], sr_post['senders'], '.', alpha=0.5)\n",
    "\n",
    "    plt.figure()\n",
    "    plt.title(fr\"$\\eta$ = {eta}\")\n",
    "    plt.xlabel(\"time (ms)\")\n",
    "    plt.ylabel(\"ATP\")\n",
    "    plt.plot(mult['times'], mult['ATP'])\n",
    "    plt.axhline(eq_energy_level, c='grey', ls='--')\n",
    "    \n",
    "    plt.figure()\n",
    "    plt.title(fr\"$\\eta$ = {eta}\")\n",
    "    plt.xlabel(\"time (ms)\")\n",
    "    plt.ylabel(\"post rate (Hz)\")\n",
    "    plt.plot(fr)\n",
    "\n",
    "    plt.figure()\n",
    "    plt.title(fr\"$\\eta$ = {eta}\")\n",
    "    plt.xlabel(\"time (ms)\")\n",
    "    plt.ylabel(\"Weights\")\n",
    "    plt.plot(wr['times'], wr['weights'], '.')\n",
    "\n",
    "    plt.figure()\n",
    "    plt.xlabel(\"Weights\")\n",
    "    plt.ylabel(\"Frequency\")\n",
    "    plt.title(fr\"$\\eta$ = {eta}\")\n",
    "    plt.hist(fin_weights)\n",
    "    \n",
    "    #plt.show()\n",
    "    #plt.close(fig)\n",
    "    "
   ]
  },
  {
   "cell_type": "code",
   "execution_count": 14,
   "id": "a451e958",
   "metadata": {},
   "outputs": [],
   "source": [
    "def equall_dep_pot_energy_level(eta: float, alpha: float = 0.5, a_h: float = 100):\n",
    "    if eta == 0:\n",
    "        return 0\n",
    "    else:\n",
    "        return np.log(alpha)/eta*a_h + a_h"
   ]
  },
  {
   "cell_type": "code",
   "execution_count": 21,
   "id": "6dc29545",
   "metadata": {},
   "outputs": [],
   "source": [
    "def firing_rate(post_spike_times, simtime, step:float = 0.1, time_window: float = 30.):\n",
    "    idx_from_time_window = int(time_window/step)\n",
    "    times = np.arange(start=0,\n",
    "                     stop=simtime + step/2,\n",
    "                     step=step)  # array with times\n",
    "    fr = np.zeros(len(times))  # array with times\n",
    "    for spk in post_spike_times:\n",
    "        idx_from_spk_time = int(spk/step)\n",
    "        fr[idx_from_spk_time] += 1\n",
    "        \n",
    "    for idx in range(len(times)):\n",
    "        if idx <= idx_from_time_window:\n",
    "            fr[idx] = sum(fr[0:idx])\n",
    "        else: \n",
    "            fr[idx] = sum(fr[idx-idx_from_time_window:idx])\n",
    "        \n",
    "    fr *= 1000 / time_window \n",
    "    print(fr)\n",
    "    return fr"
   ]
  },
  {
   "cell_type": "code",
   "execution_count": 22,
   "id": "f12c402b",
   "metadata": {},
   "outputs": [
    {
     "name": "stdout",
     "output_type": "stream",
     "text": [
      "\n",
      "Oct 06 19:23:16 NodeManager::prepare_nodes [Info]: \n",
      "[0. 0. 0. ... 0. 0. 0.]\n",
      "[0. 0. 0. ... 0. 0. 0.]\n",
      "    Preparing 1005 nodes for simulation.\n",
      "\n",
      "Oct 06 19:23:16 SimulationManager::start_updating_ [Info]: \n",
      "    Number of local nodes: 1005\n",
      "    Simulation time (ms): 100\n",
      "    Number of OpenMP threads: 1\n",
      "    Not using MPI\n",
      "\n",
      "Oct 06 19:23:16 SimulationManager::run [Info]: \n",
      "    Simulation finished.\n"
     ]
    },
    {
     "data": {
      "image/png": "[encoded data removed]",
      "text/plain": [
       "<Figure size 432x288 with 1 Axes>"
      ]
     },
     "metadata": {
      "needs_background": "light"
     },
     "output_type": "display_data"
    },
    {
     "data": {
      "image/png": "[encoded data removed]",
      "text/plain": [
       "<Figure size 432x288 with 1 Axes>"
      ]
     },
     "metadata": {
      "needs_background": "light"
     },
     "output_type": "display_data"
    },
    {
     "data": {
      "image/png": "[encoded data removed]",
      "text/plain": [
       "<Figure size 432x288 with 1 Axes>"
      ]
     },
     "metadata": {
      "needs_background": "light"
     },
     "output_type": "display_data"
    },
    {
     "data": {
      "image/png": "[encoded data removed]",
      "text/plain": [
       "<Figure size 432x288 with 1 Axes>"
      ]
     },
     "metadata": {
      "needs_background": "light"
     },
     "output_type": "display_data"
    },
    {
     "data": {
      "image/png": "[encoded data removed]",
      "text/plain": [
       "<Figure size 432x288 with 1 Axes>"
      ]
     },
     "metadata": {
      "needs_background": "light"
     },
     "output_type": "display_data"
    },
    {
     "data": {
      "image/png": "[encoded data removed]",
      "text/plain": [
       "<Figure size 432x288 with 1 Axes>"
      ]
     },
     "metadata": {
      "needs_background": "light"
     },
     "output_type": "display_data"
    }
   ],
   "source": [
    "sim_time = 100\n",
    "eta = 10\n",
    "#n_pre_neurons = 2\n",
    "mean_current = 302\n",
    "std_current = 10\n",
    "alpha = 0.7\n",
    "syn_spec = {\"synapse_model\": \"ed_stdp0_nestml__with_edlif_psc_alpha_percent0_nestml\",\n",
    "           \"alpha\": alpha,\n",
    "           \"mu_minus\": 0,\n",
    "           \"mu_plus\": 0,\n",
    "           \"lambda\": 0.01,\n",
    "           \"eta\": eta}\n",
    "eq_energy_level = equall_dep_pot_energy_level(eta=eta,\n",
    "                                              alpha=alpha,\n",
    "                                              a_h=100)\n",
    "sr_pre, sr_post, mult, wr, fin_weights = experiment(\n",
    "                                       #n_pre_neurons=n_pre_neurons,\n",
    "                                       mean_current=mean_current,\n",
    "                                       std_current=std_current,\n",
    "                                       sim_time=sim_time,\n",
    "                                       syn_spec=syn_spec)\n",
    "\n",
    "fr = firing_rate(post_spike_times=sr_post['times'], simtime=sim_time)\n",
    "\n",
    "print(fr)\n",
    "\n",
    "plots(sr_pre=sr_pre, \n",
    "      sr_post=sr_post,\n",
    "      fr=fr,\n",
    "      mult=mult, \n",
    "      wr=wr, \n",
    "      eta=eta, \n",
    "      fin_weights=fin_weights, \n",
    "      eq_energy_level=eq_energy_level)"
   ]
  },
  {
   "cell_type": "code",
   "execution_count": 23,
   "id": "406d27b8",
   "metadata": {
    "scrolled": false
   },
   "outputs": [
    {
     "name": "stdout",
     "output_type": "stream",
     "text": [
      "\n",
      "Oct 06 19:23:17 NodeManager::prepare_nodes [Info]: \n",
      "Results for eta = 0\n",
      "    Preparing 1005 nodes for simulation.\n",
      "\n",
      "Oct 06 19:23:17 SimulationManager::start_updating_ [Info]: \n",
      "    Number of local nodes: 1005\n",
      "    Simulation time (ms): 10000\n",
      "    Number of OpenMP threads: 1\n",
      "    Not using MPI\n",
      "\n",
      "Oct 06 19:23:24 SimulationManager::run [Info]: \n",
      "    Simulation finished.\n"
     ]
    },
    {
     "ename": "TypeError",
     "evalue": "plots() missing 1 required positional argument: 'eq_energy_level'",
     "output_type": "error",
     "traceback": [
      "\u001b[0;31m---------------------------------------------------------------------------\u001b[0m",
      "\u001b[0;31mTypeError\u001b[0m                                 Traceback (most recent call last)",
      "Input \u001b[0;32mIn [23]\u001b[0m, in \u001b[0;36m<cell line: 10>\u001b[0;34m()\u001b[0m\n\u001b[1;32m     28\u001b[0m eq_energy_level\u001b[38;5;241m.\u001b[39mappend(eq_energy)\n\u001b[1;32m     29\u001b[0m \u001b[38;5;28mprint\u001b[39m(\u001b[38;5;124mf\u001b[39m\u001b[38;5;124m\"\u001b[39m\u001b[38;5;124mResults for eta = \u001b[39m\u001b[38;5;132;01m{\u001b[39;00meta\u001b[38;5;132;01m}\u001b[39;00m\u001b[38;5;124m\"\u001b[39m)\n\u001b[0;32m---> 30\u001b[0m \u001b[43mplots\u001b[49m\u001b[43m(\u001b[49m\u001b[43msr_pre\u001b[49m\u001b[43m,\u001b[49m\u001b[43m \u001b[49m\u001b[43msr_post\u001b[49m\u001b[43m,\u001b[49m\u001b[43m \u001b[49m\u001b[43mmult\u001b[49m\u001b[43m,\u001b[49m\u001b[43m \u001b[49m\u001b[43mwr\u001b[49m\u001b[43m,\u001b[49m\u001b[43m \u001b[49m\u001b[43meta\u001b[49m\u001b[43m,\u001b[49m\u001b[43m \u001b[49m\u001b[43mfin_weights\u001b[49m\u001b[43m,\u001b[49m\u001b[43m \u001b[49m\u001b[43meq_energy\u001b[49m\u001b[43m)\u001b[49m\n",
      "\u001b[0;31mTypeError\u001b[0m: plots() missing 1 required positional argument: 'eq_energy_level'"
     ]
    }
   ],
   "source": [
    "sim_time = 10000\n",
    "mean_current = 292\n",
    "std_current = 30\n",
    "etas = [0, 1, 2, 10, 20, 50, 100, 1000]\n",
    "mult_tot = []\n",
    "wr_tot = []\n",
    "fin_weights_tot = []\n",
    "eq_energy_level = []\n",
    "alpha = 0.5\n",
    "for eta in etas:\n",
    "    syn_spec = {\"synapse_model\": \"ed_stdp0_nestml__with_edlif_psc_alpha_percent0_nestml\",\n",
    "               \"alpha\": alpha,\n",
    "               \"mu_minus\": 0,\n",
    "               \"mu_plus\": 0,\n",
    "               \"lambda\": 0.01,\n",
    "               \"eta\": eta}\n",
    "    sr_pre, sr_post, mult, wr, fin_weights = experiment(\n",
    "                                       sim_time=sim_time,\n",
    "                                       mean_current=mean_current,\n",
    "                                       std_current=std_current,\n",
    "                                       syn_spec=syn_spec)\n",
    "    mult_tot.append(mult)\n",
    "    wr_tot.append(wr)\n",
    "    fin_weights_tot.append(fin_weights)\n",
    "    eq_energy = equall_dep_pot_energy_level(eta=eta,\n",
    "                                            alpha=alpha,\n",
    "                                            a_h=100)\n",
    "    eq_energy_level.append(eq_energy)\n",
    "    print(f\"Results for eta = {eta}\")\n",
    "    plots(sr_pre, sr_post, mult, wr, eta, fin_weights, eq_energy)"
   ]
  },
  {
   "cell_type": "code",
   "execution_count": null,
   "id": "ef020efb",
   "metadata": {},
   "outputs": [],
   "source": [
    "#mult_tot.append(mult)\n",
    "#wr_tot.append(wr)\n",
    "#fin_weights_tot.append(fin_weights)\n",
    "bins = np.arange(-1, 101, 5)\n",
    "fig, ax = plt.subplots(len(etas), 3, figsize=(10, 20), \n",
    "                       sharex='col', sharey='col')\n",
    "fig.tight_layout(pad=5.0)\n",
    "for row, eta in enumerate(etas):\n",
    "    for_plot = [mult_tot[row], wr_tot[row], fin_weights_tot[row]]\n",
    "    for col in range(3):\n",
    "        if col == 0:\n",
    "            ax[row, col].set_ylim(81, 101)\n",
    "            ax[row, col].plot(mult_tot[row]['times'], \n",
    "                              mult_tot[row]['ATP'],\n",
    "                             label=f'$\\eta$ = {eta}',\n",
    "                             color='darkgreen')\n",
    "            ax[row, col].axhline(eq_energy_level[row], c='grey', ls='--')\n",
    "            ax[row, col].set_xlabel('times (ms)')\n",
    "            ax[row, col].set_ylabel('ATP (%)')\n",
    "            ax[row, col].legend()\n",
    "            if row == 0:\n",
    "                ax[row, col].set_title('ATP')\n",
    "                \n",
    "        elif col == 1:\n",
    "            ax[row, col].plot(wr_tot[row]['times'], \n",
    "                              wr_tot[row]['weights'], '.',\n",
    "                             color='darkgrey',\n",
    "                             alpha=0.5)\n",
    "            ax[row, col].set_xlabel('times (ms)')\n",
    "            ax[row, col].set_ylabel('weight')\n",
    "            if row == 0:\n",
    "                ax[row, col].set_title('Weights')\n",
    "                \n",
    "        else:\n",
    "            ax[row, col].hist(fin_weights_tot[row],\n",
    "                             bins=bins,\n",
    "                             facecolor='steelblue')\n",
    "            ax[row, col].set_xlim(-1, 101)\n",
    "            ax[row, col].set_xlabel('weights')\n",
    "            ax[row, col].set_ylabel('Frequency')\n",
    "            if row == 0:\n",
    "                ax[row, col].set_title('Histogram')"
   ]
  },
  {
   "cell_type": "code",
   "execution_count": null,
   "id": "3581d82c",
   "metadata": {},
   "outputs": [],
   "source": [
    "print(set(sr_pre['senders']))\n",
    "print('--------------')\n",
    "print('total senders:')\n",
    "print(len(set(sr_pre['senders'])))"
   ]
  },
  {
   "cell_type": "code",
   "execution_count": null,
   "id": "287d5a4e",
   "metadata": {},
   "outputs": [],
   "source": []
  },
  {
   "cell_type": "code",
   "execution_count": null,
   "id": "88f471ab",
   "metadata": {},
   "outputs": [],
   "source": [
    "def drift_classic(alpha, tau, r, delta_t):\n",
    "    if delta_t > 0:\n",
    "        drift = (1-alpha)*tau*r**2 + r*np.exp(-delta_t/tau)\n",
    "    else:\n",
    "        drift = (1-alpha)*tau*(r**2) - alpha*r*np.exp(delta_t/tau)\n",
    "    \n",
    "    if drift > 0:\n",
    "        drift = 1\n",
    "    else:\n",
    "        drift = 0\n",
    "        \n",
    "    return drift"
   ]
  },
  {
   "cell_type": "code",
   "execution_count": null,
   "id": "3748b83a",
   "metadata": {},
   "outputs": [],
   "source": [
    "delta_t = np.linspace(-200, 200, 500)  # ms\n",
    "alpha = 0.95\n",
    "tau = 10  \n",
    "r = 1  # Hz\n",
    "lambd = 0.005\n",
    "drift_c = []\n",
    "samples = 40\n",
    "w_init = 0.5\n",
    "for d_t in delta_t:\n",
    "    drift_per_dt = []\n",
    "    w_init = 0.5\n",
    "    for n in range(samples):\n",
    "        dt = d_t\n",
    "        drift_per_dt.append(drift_classic(\n",
    "                                 alpha=alpha,\n",
    "                                 tau=tau,\n",
    "                                 delta_t=dt,\n",
    "                                 #lambd=lambd,\n",
    "                                 w=w_init))\n",
    "        w_init = drift_per_dt[-1]\n",
    "    mean_drift = np.mean(drift_per_dt)\n",
    "    #drift_c.append(drift_per_dt)\n",
    "    drift_c.append(mean_drift)"
   ]
  },
  {
   "cell_type": "code",
   "execution_count": null,
   "id": "b7756403",
   "metadata": {},
   "outputs": [],
   "source": [
    "plt.plot(delta_t, drift_c)"
   ]
  },
  {
   "cell_type": "code",
   "execution_count": null,
   "id": "1225aa92",
   "metadata": {},
   "outputs": [],
   "source": [
    "def drift_classic(alpha, tau, r, delta_t):\n",
    "    f_p = 1\n",
    "    f_m = alpha\n",
    "    T_p = r**(-1) * np.exp(-abs(delta_t)/tau) * (delta_t > 0)\n",
    "    T_m = r**(-1) * np.exp(-abs(1/r - delta_t)/tau) * (delta_t < 0)\n",
    "    drift = r**2*((f_p-f_m)*tau + f_p * T_p - f_m * T_m)\n",
    "    return drift"
   ]
  },
  {
   "cell_type": "code",
   "execution_count": null,
   "id": "6fc582ff",
   "metadata": {},
   "outputs": [],
   "source": [
    "delta_t = np.linspace(-200, 200, 500)  # ms\n",
    "alpha = 0.95\n",
    "tau = 10  \n",
    "r = 1  # Hz\n",
    "lambd = 0.005\n",
    "drift_c = []\n",
    "#samples = 40\n",
    "#w_init = 0.5\n",
    "drift_per_dt = []\n",
    "for d_t in delta_t:\n",
    "    dt = d_t\n",
    "    drift_per_dt.append(drift_classic(\n",
    "                             alpha=alpha,\n",
    "                             tau=tau,\n",
    "                             r=r,\n",
    "                             delta_t=dt))\n",
    "\n",
    "    #mean_drift = np.mean(drift_per_dt)\n",
    "    #drift_c.append(drift_per_dt)\n",
    "    #drift_c.append(mean_drift)"
   ]
  },
  {
   "cell_type": "code",
   "execution_count": null,
   "id": "3419ae5f",
   "metadata": {},
   "outputs": [],
   "source": [
    "plt.plot(delta_t, drift_per_dt)"
   ]
  },
  {
   "cell_type": "code",
   "execution_count": null,
   "id": "ba37b803",
   "metadata": {},
   "outputs": [],
   "source": [
    "def stdp(alpha, tau, delta_t, lambd):\n",
    "    if delta_t > 0:\n",
    "        dw = lambd * np.exp(-delta_t/tau)\n",
    "    else:\n",
    "        dw = -lambd * alpha * np.exp(delta_t/tau)\n",
    "    return dw"
   ]
  },
  {
   "cell_type": "code",
   "execution_count": null,
   "id": "bbb780b1",
   "metadata": {},
   "outputs": [],
   "source": [
    "alpha = 0.95\n",
    "#alpha = 1.05\n",
    "tau = 10  \n",
    "lambd = 0.005\n",
    "\n",
    "pre_spikes = np.linspace(200, 400, 20)\n",
    "delta_t = np.linspace(-200, 200, 400)\n",
    "mean_w = []\n",
    "w_init = 0\n",
    "r = len(pre_spikes)/(pre_spikes[-1] - pre_spikes[0])*1000\n",
    "print(f'firing rate: {r}')\n",
    "for dt in delta_t:\n",
    "    post_spikes = pre_spikes + dt\n",
    "    dw = []\n",
    "    if dt < 0:\n",
    "        for post_s in post_spikes:\n",
    "            for n, pre_s in enumerate(pre_spikes[0: n+1]):\n",
    "                dw.append(stdp(\n",
    "                                alpha=alpha,\n",
    "                                tau=tau,\n",
    "                                lambd=lambd,\n",
    "                                delta_t=post_s-pre_s))\n",
    "    else:\n",
    "        for pre_s in pre_spikes:\n",
    "            for n, post_s in enumerate(post_spikes[0: n+1]):\n",
    "                dw.append(stdp(\n",
    "                                alpha=alpha,\n",
    "                                tau=tau,\n",
    "                                lambd=lambd,\n",
    "                                delta_t=post_s-pre_s))\n",
    "            #dw.append(drift_classic(\n",
    "            #                     alpha=alpha,\n",
    "            #                     tau=tau,\n",
    "            #                     r=r,\n",
    "            #                     delta_t=(post_s-pre_s)))\n",
    "    tot_dw = np.sum(dw)\n",
    "    #mean_w.append(max(0, min(1, w_init + np.mean(dw))))\n",
    "    mean_w.append(max(0, min(1, w_init + tot_dw)))\n",
    "    \n",
    "            "
   ]
  },
  {
   "cell_type": "code",
   "execution_count": null,
   "id": "fb32ea40",
   "metadata": {},
   "outputs": [],
   "source": [
    "plt.plot(delta_t, mean_w)"
   ]
  },
  {
   "cell_type": "code",
   "execution_count": null,
   "id": "493942cb",
   "metadata": {},
   "outputs": [],
   "source": [
    "alpha = 0.95\n",
    "#alpha = 1.05\n",
    "tau = 10  \n",
    "lambd = 0.05\n",
    "\n",
    "\n",
    "delta_t = np.linspace(-100, 100, 100) # ms\n",
    "w = []\n",
    "\n",
    "\n",
    "for dt in delta_t:\n",
    "    w_init = 0\n",
    "    dw = 0\n",
    "    r = abs(1/dt)*1000\n",
    "    pre_spikes = np.random.poisson(lam=max(1, r), size=100)#np.linspace(300, 30000, 20)\n",
    "    pre_spikes = np.cumsum(pre_spikes)\n",
    "    print(f'firing rate: {r}')\n",
    "    print('pre spikes times')\n",
    "    print(pre_spikes)\n",
    "    post_spikes = pre_spikes + dt\n",
    "    for pre_t in pre_spikes:\n",
    "        for post_t in post_spikes:\n",
    "            if pre_t < post_t:\n",
    "                # potentiation\n",
    "                dw += lambd * np.exp(-(post_t-pre_t)/tau)\n",
    "            else:\n",
    "                # deppresion\n",
    "                dw += - alpha *lambd * np.exp((post_t-pre_t)/tau)\n",
    "    w.append(max(0, min(1, w_init + dw)))"
   ]
  },
  {
   "cell_type": "code",
   "execution_count": null,
   "id": "d3279848",
   "metadata": {},
   "outputs": [],
   "source": [
    "plt.plot(delta_t, w)"
   ]
  },
  {
   "cell_type": "code",
   "execution_count": null,
   "id": "dcecd602",
   "metadata": {},
   "outputs": [],
   "source": []
  }
 ],
 "metadata": {
  "kernelspec": {
   "display_name": "Python 3 (ipykernel)",
   "language": "python",
   "name": "python3"
  },
  "language_info": {
   "codemirror_mode": {
    "name": "ipython",
    "version": 3
   },
   "file_extension": ".py",
   "mimetype": "text/x-python",
   "name": "python",
   "nbconvert_exporter": "python",
   "pygments_lexer": "ipython3",
   "version": "3.10.4"
  }
 },
 "nbformat": 4,
 "nbformat_minor": 5
}
