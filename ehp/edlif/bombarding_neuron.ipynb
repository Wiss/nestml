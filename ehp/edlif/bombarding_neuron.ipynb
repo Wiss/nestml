{
 "cells": [
  {
   "cell_type": "code",
   "execution_count": 1,
   "id": "9c64a04b",
   "metadata": {},
   "outputs": [
    {
     "name": "stderr",
     "output_type": "stream",
     "text": [
      "<frozen importlib._bootstrap>:241: RuntimeWarning: compiletime version 3.8 of module 'pynestkernel' does not match runtime version 3.1\n",
      "<frozen importlib._bootstrap>:241: RuntimeWarning: builtins.type size changed, may indicate binary incompatibility. Expected 880 from C header, got 888 from PyObject\n"
     ]
    },
    {
     "name": "stdout",
     "output_type": "stream",
     "text": [
      "\n",
      "              -- N E S T --\n",
      "  Copyright (C) 2004 The NEST Initiative\n",
      "\n",
      " Version: master@61f08e0ea\n",
      " Built: Jul 14 2022 17:28:07\n",
      "\n",
      " This program is provided AS IS and comes with\n",
      " NO WARRANTY. See the file LICENSE for details.\n",
      "\n",
      " Problems or suggestions?\n",
      "   Visit https://www.nest-simulator.org\n",
      "\n",
      " Type 'nest.help()' to find out more about NEST.\n",
      "\n"
     ]
    }
   ],
   "source": [
    "%matplotlib inline\n",
    "import matplotlib.pyplot as plt\n",
    "import nest\n",
    "import numpy as np\n",
    "import os\n",
    "\n",
    "from pynestml.frontend.pynestml_frontend import generate_nest_target\n",
    "\n",
    "NEST_SIMULATOR_INSTALL_LOCATION = nest.ll_api.sli_func(\"statusdict/prefix ::\")"
   ]
  },
  {
   "cell_type": "code",
   "execution_count": 2,
   "id": "1b1db444",
   "metadata": {},
   "outputs": [],
   "source": [
    "kernel = \"exp\" # psc kernel \"alpha\" or \"exp\"\n",
    "\n",
    "neuron_model = [\n",
    "    \"edlif_psc_\"+kernel+\"_percent.nestml\",\n",
    "    \"iaf_psc_\"+kernel+\".nestml\"\n",
    "]\n",
    "# if any model is not working:\n",
    "# rebuild in EDLIF_two_neuron_example.ipynb\n",
    "# \n",
    "\n",
    "# Choose noise type\n",
    "noise = \"poisson_generator\" # noise_generator (gaussian) or poisson_generator\n",
    "# more info here:\n",
    "# https://nest-simulator.readthedocs.io/en/v2.18.0/models/generator.html#classnest_1_1ac__generator\n",
    "exc_mean = 100 # mean value of noise current (pA). Only for Gaussian\n",
    "exc_std = exc_mean/10\n",
    "inh_mean = 100\n",
    "inh_std = inh_mean/10\n",
    "exc_rate = 100000*0.1 # Only for poisson\n",
    "inh_rate = 100000\n",
    "\n",
    "# weights\n",
    "noise_exc_w = 1.*2\n",
    "noise_inh_w = -1.*0\n",
    "\n",
    "# neuron params\n",
    "th = -55 # default value: -55\n",
    "t_ref = 6\n",
    "tau_syn_exc = 12\n",
    "\n",
    "# seed\n",
    "seed = 1\n",
    "\n",
    "# sim time\n",
    "sim_time = 600"
   ]
  },
  {
   "cell_type": "code",
   "execution_count": 3,
   "id": "63cc0928",
   "metadata": {},
   "outputs": [
    {
     "name": "stdout",
     "output_type": "stream",
     "text": [
      "\n",
      "Sep 02 18:10:17 Install [Info]: \n",
      "    loaded module edlif_psc_exp_module\n"
     ]
    }
   ],
   "source": [
    "def try_install_module(module_name):\n",
    "    try:\n",
    "            nest.Install(module_name)\n",
    "            nest.Create(neuron_model[0].split(\".\")[0])\n",
    "    except:\n",
    "        generate_nest_target(input_path=neuron_model[0],\n",
    "                     target_path=\"/tmp/nestml-component\",\n",
    "                     module_name=module_name,\n",
    "                     logging_level=\"INFO\",\n",
    "                     codegen_opts={\"nest_path\": NEST_SIMULATOR_INSTALL_LOCATION})\n",
    "        nest.ResetKernel()\n",
    "        nest.Install(module_name)\n",
    "\n",
    "if neuron_model[0]==\"edlif_psc_exp_percent.nestml\":\n",
    "    module_name = \"edlif_psc_exp\" + \"_module\"\n",
    "    try_install_module(module_name)\n",
    "else:\n",
    "    module_name = \"edlif_psc_alpha\" + \"_module\"\n",
    "    try_install_module(module_name)"
   ]
  },
  {
   "cell_type": "code",
   "execution_count": 4,
   "id": "e7aae50c",
   "metadata": {},
   "outputs": [],
   "source": [
    "def bombard_neuron(neuron_id, seed):\n",
    "    nest.ResetKernel()\n",
    "    nest.rng_seed = seed\n",
    "    neuron_model_name = neuron_model[neuron_id].split(\".\")[0]\n",
    "    print(f\"Using neuron model: {neuron_model_name}\")\n",
    "\n",
    "    neuron = nest.Create(neuron_model_name)\n",
    "    # neuron params\n",
    "    if th != -55:\n",
    "        if neuron_model_name==\"iaf_psc_exp\":\n",
    "            neuron.V_th = th\n",
    "        else:\n",
    "            neuron.V_th = th\n",
    "            neuron.ATP = 90\n",
    "    neuron.t_ref = t_ref\n",
    "    neuron.tau_syn_ex = tau_syn_exc\n",
    "\n",
    "    exc_noise = nest.Create(noise)\n",
    "    inh_noise = nest.Create(noise)\n",
    "    mult = nest.Create(\"multimeter\", params={'record_from':['V_m']})\n",
    "    sr = nest.Create('spike_recorder')\n",
    "    \n",
    "\n",
    "\n",
    "    if noise == \"noise_generator\":\n",
    "        exc_noise.mean = exc_mean\n",
    "        exc_noise.std = exc_std\n",
    "        inh_noise.mean = inh_mean\n",
    "        inh_noise.std = inh_std\n",
    "    elif noise == \"poisson_generator\":\n",
    "        exc_noise.rate = exc_rate  \n",
    "        inh_noise.rate = inh_rate  \n",
    "    \n",
    "    # connections\n",
    "    syn_dict_noise_exc = {\"weight\": noise_exc_w}\n",
    "    syn_dict_noise_inh = {\"weight\": noise_inh_w}\n",
    "    nest.Connect(exc_noise, neuron, syn_spec=syn_dict_noise_exc)\n",
    "    nest.Connect(inh_noise, neuron, syn_spec=syn_dict_noise_inh)\n",
    "\n",
    "    nest.Connect(mult, neuron)\n",
    "    nest.Connect(neuron, sr)\n",
    "    nest.Simulate(sim_time)\n",
    "\n",
    "    vm = mult.get('events', 'V_m')\n",
    "    spk_times = sr.get('events', 'times')\n",
    "    \n",
    "    print(neuron)\n",
    "    print(type(neuron))\n",
    "    \n",
    "    return vm, spk_times "
   ]
  },
  {
   "cell_type": "code",
   "execution_count": 5,
   "id": "2b791a7d",
   "metadata": {},
   "outputs": [],
   "source": [
    "def plot_vm(vm, s_times):\n",
    "    plt.figure(figsize=(12, 6))\n",
    "    #fig, ax = plt.subplots(nrows=2, figsize=(15,12))\n",
    "    plt.plot(vm, label=\"voltage\")\n",
    "    spks = np.ones(len(s_times))*-50\n",
    "    plt.plot(s_times, spks, 'o', color='orange', label=\"spike times\")\n",
    "    plt.xlabel('time (ms)')\n",
    "    plt.ylabel('Voltage (mV)')\n",
    "    plt.legend()"
   ]
  },
  {
   "cell_type": "code",
   "execution_count": 6,
   "id": "f9a10e63",
   "metadata": {},
   "outputs": [
    {
     "name": "stdout",
     "output_type": "stream",
     "text": [
      "Using neuron model: edlif_psc_exp_percent\n",
      "\n",
      "NodeCollection(metadata=None, model=edlif_psc_exp_percent, size=1, first=1)Sep 02 18:10:17 NodeManager::prepare_nodes [Info]: \n",
      "    Preparing 5 nodes for simulation.\n",
      "\n",
      "Sep 02 18:10:17 SimulationManager::start_updating_ [Info]: \n",
      "    Number of local nodes: 5\n",
      "    Simulation time (ms): 600\n",
      "    Number of OpenMP threads: 1\n",
      "    Not using MPI\n",
      "\n",
      "Sep 02 18:10:17 SimulationManager::run [Info]: \n",
      "    Simulation finished.\n",
      "\n",
      "<class 'nest.lib.hl_api_types.NodeCollection'>\n"
     ]
    },
    {
     "data": {
      "image/png": "[encoded data removed]",
      "text/plain": [
       "<Figure size 864x432 with 1 Axes>"
      ]
     },
     "metadata": {
      "needs_background": "light"
     },
     "output_type": "display_data"
    }
   ],
   "source": [
    "# Choose neuron model\n",
    "neuron_id = 0 # edlif (0) or iaf (1)\n",
    "vm_edlif, s_times_edlif = bombard_neuron(neuron_id, seed)\n",
    "plot_vm(vm_edlif, s_times_edlif)"
   ]
  },
  {
   "cell_type": "code",
   "execution_count": 7,
   "id": "5dc653d5",
   "metadata": {},
   "outputs": [
    {
     "name": "stdout",
     "output_type": "stream",
     "text": [
      "Using neuron model: iaf_psc_exp\n",
      "\n",
      "Sep 02 18:10:18 NodeManager::prepare_nodes [Info]: \n",
      "NodeCollection(metadata=None, model=iaf_psc_exp, size=1, first=1)\n",
      "<class 'nest.lib.hl_api_types.NodeCollection'>\n",
      "    Preparing 5 nodes for simulation.\n",
      "\n",
      "Sep 02 18:10:18 SimulationManager::start_updating_ [Info]: \n",
      "    Number of local nodes: 5\n",
      "    Simulation time (ms): 600\n",
      "    Number of OpenMP threads: 1\n",
      "    Not using MPI\n",
      "\n",
      "Sep 02 18:10:18 SimulationManager::run [Info]: \n",
      "    Simulation finished.\n"
     ]
    },
    {
     "data": {
      "image/png": "[encoded data removed]",
      "text/plain": [
       "<Figure size 864x432 with 1 Axes>"
      ]
     },
     "metadata": {
      "needs_background": "light"
     },
     "output_type": "display_data"
    }
   ],
   "source": [
    "# Choose neuron model\n",
    "neuron_id = 1 # edlif (0) o iaf (1)\n",
    "vm_lif, s_times_lif = bombard_neuron(neuron_id, seed)\n",
    "plot_vm(vm_lif, s_times_lif)"
   ]
  },
  {
   "cell_type": "code",
   "execution_count": 8,
   "id": "64c11d2d",
   "metadata": {},
   "outputs": [
    {
     "data": {
      "image/png": "[encoded data removed]",
      "text/plain": [
       "<Figure size 1080x504 with 2 Axes>"
      ]
     },
     "metadata": {
      "needs_background": "light"
     },
     "output_type": "display_data"
    }
   ],
   "source": [
    "alpha = 0.2\n",
    "n_bins = 100\n",
    "def plot_hist(vm_edlif, vm_lif, isi_edlif, isi_lif):\n",
    "    fig, ax = plt.subplots(1, 2,\n",
    "                            figsize =(15, 7),\n",
    "                            tight_layout = True)\n",
    "    ax[0].hist(vm_edlif, bins=n_bins, alpha=alpha, label=\"edlif\")\n",
    "    ax[0].hist(vm_lif, bins=n_bins, alpha=alpha, label=\"lif\")\n",
    "\n",
    "    ax[1].hist(isi_edlif, bins=n_bins, alpha=alpha, label=\"edlif\")\n",
    "    ax[1].hist(isi_lif, bins=n_bins, alpha=alpha, label=\"lif\")\n",
    "\n",
    "    for x in ax:\n",
    "        x.legend()\n",
    "        \n",
    "isi_edlif = s_times_edlif[1:] - s_times_edlif[:-1]\n",
    "isi_lif = s_times_lif[1:] - s_times_lif[:-1]\n",
    "plot_hist(vm_edlif, vm_lif, isi_edlif, isi_lif)"
   ]
  },
  {
   "cell_type": "code",
   "execution_count": 9,
   "id": "48f41774",
   "metadata": {},
   "outputs": [
    {
     "name": "stdout",
     "output_type": "stream",
     "text": [
      "[]\n",
      "[]\n"
     ]
    }
   ],
   "source": [
    "print(s_times_lif)\n",
    "print(isi_lif)"
   ]
  },
  {
   "cell_type": "code",
   "execution_count": 10,
   "id": "729bf59e",
   "metadata": {},
   "outputs": [
    {
     "ename": "NameError",
     "evalue": "name 'neuron' is not defined",
     "output_type": "error",
     "traceback": [
      "\u001b[0;31m---------------------------------------------------------------------------\u001b[0m",
      "\u001b[0;31mNameError\u001b[0m                                 Traceback (most recent call last)",
      "Input \u001b[0;32mIn [10]\u001b[0m, in \u001b[0;36m<cell line: 1>\u001b[0;34m()\u001b[0m\n\u001b[0;32m----> 1\u001b[0m \u001b[43mneuron\u001b[49m\n",
      "\u001b[0;31mNameError\u001b[0m: name 'neuron' is not defined"
     ]
    }
   ],
   "source": [
    "neuron"
   ]
  },
  {
   "cell_type": "code",
   "execution_count": null,
   "id": "c662621b",
   "metadata": {},
   "outputs": [],
   "source": [
    "beta = 1\n",
    "a = nest.random.exponential(beta)\n",
    "print(a)"
   ]
  },
  {
   "cell_type": "code",
   "execution_count": null,
   "id": "bfc5510c",
   "metadata": {},
   "outputs": [],
   "source": []
  }
 ],
 "metadata": {
  "kernelspec": {
   "display_name": "Python 3 (ipykernel)",
   "language": "python",
   "name": "python3"
  },
  "language_info": {
   "codemirror_mode": {
    "name": "ipython",
    "version": 3
   },
   "file_extension": ".py",
   "mimetype": "text/x-python",
   "name": "python",
   "nbconvert_exporter": "python",
   "pygments_lexer": "ipython3",
   "version": "3.10.4"
  }
 },
 "nbformat": 4,
 "nbformat_minor": 5
}
