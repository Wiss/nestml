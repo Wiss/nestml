{
 "cells": [
  {
   "cell_type": "code",
   "execution_count": 1,
   "id": "acbe50eb",
   "metadata": {},
   "outputs": [
    {
     "name": "stderr",
     "output_type": "stream",
     "text": [
      "<frozen importlib._bootstrap>:241: RuntimeWarning: compiletime version 3.8 of module 'pynestkernel' does not match runtime version 3.1\n",
      "<frozen importlib._bootstrap>:241: RuntimeWarning: builtins.type size changed, may indicate binary incompatibility. Expected 880 from C header, got 888 from PyObject\n"
     ]
    },
    {
     "name": "stdout",
     "output_type": "stream",
     "text": [
      "\n",
      "              -- N E S T --\n",
      "  Copyright (C) 2004 The NEST Initiative\n",
      "\n",
      " Version: master@61f08e0ea\n",
      " Built: Jul 14 2022 17:28:07\n",
      "\n",
      " This program is provided AS IS and comes with\n",
      " NO WARRANTY. See the file LICENSE for details.\n",
      "\n",
      " Problems or suggestions?\n",
      "   Visit https://www.nest-simulator.org\n",
      "\n",
      " Type 'nest.help()' to find out more about NEST.\n",
      "\n"
     ]
    }
   ],
   "source": [
    "import matplotlib.pyplot as plt\n",
    "import nest\n",
    "import numpy as np\n",
    "\n",
    "import os\n",
    "import sys\n",
    "    \n",
    "from pynestml.frontend.pynestml_frontend import generate_nest_target\n",
    "NEST_SIMULATOR_INSTALL_LOCATION = nest.ll_api.sli_func(\"statusdict/prefix ::\")   \n",
    "    \n",
    "%matplotlib inline"
   ]
  },
  {
   "cell_type": "code",
   "execution_count": 2,
   "id": "1abb4427",
   "metadata": {},
   "outputs": [
    {
     "name": "stdout",
     "output_type": "stream",
     "text": [
      "\n",
      "Sep 05 16:11:37 Install [Info]: \n",
      "    loaded module nestmlmodule\n"
     ]
    }
   ],
   "source": [
    "co_creation = 0\n",
    "exc_edlif = 1\n",
    "inh_edlif = 0\n",
    "\n",
    "nest.ResetKernel()\n",
    "\n",
    "if co_creation:\n",
    "    # neuron and synapse co-created\n",
    "    nest.Install(\"nestml_0_module\")\n",
    "    #exc_neuron_model_name = \"edlif_percent_mwe0_nestml__with_stdp0_nestml\" # \"iaf_psc_alpha\" \"edlif_psc_percent\"\n",
    "    #inh_neuron_model_name = \"edlif_percent_mwe0_nestml__with_stdp0_nestml\"\n",
    "    exc_neuron_model_name = \"edlif_psc_alpha_percent0_nestml__with_stdp0_nestml\"\n",
    "    inh_neuron_model_name = \"edlif_psc_alpha_percent0_nestml__with_stdp0_nestml\"\n",
    "    #synapses_model_name = \"stdp0_nestml__with_edlif_percent_mwe0_nestml\" # \"stdp_synapse\"\n",
    "    synapses_model_name = \"stdp0_nestml__with_edlif_psc_alpha_percent0_nestml\"\n",
    "    #synapses_model_name = \"stdp_synapse\"\n",
    "\n",
    "\n",
    "else:\n",
    "    # only neuron creates\n",
    "    nest.Install(\"nestmlmodule\")\n",
    "    if exc_edlif:\n",
    "        exc_neuron_model_name = \"edlif_psc_alpha_percent\" # \"iaf_psc_alpha\" \"edlif_psc_percent\"\n",
    "    else:\n",
    "        exc_neuron_model_name = \"iaf_psc_alpha\"\n",
    "    if inh_edlif:\n",
    "        inh_neuron_model_name = \"edlif_psc_alpha_percent\" # \"iaf_psc_alpha\" \"edlif_psc_percent\"\n",
    "    else:\n",
    "        inh_neuron_model_name = \"iaf_psc_alpha\"\n",
    "    synapses_model_name = \"stdp_synapse\"\n",
    "\n",
    "\n"
   ]
  },
  {
   "cell_type": "code",
   "execution_count": 3,
   "id": "0c138254",
   "metadata": {},
   "outputs": [
    {
     "name": "stdout",
     "output_type": "stream",
     "text": [
      "1\n",
      "exc: circular connection\n",
      "5\n",
      "inh: circular connection\n",
      "10\n"
     ]
    }
   ],
   "source": [
    "# parameters\n",
    "## simulation\n",
    "simtime = 100\n",
    "iterations = 1\n",
    "seed = 4\n",
    "dim = 2\n",
    "exc_circular_conn = True\n",
    "inh_circular_conn = True\n",
    "if dim == 2:\n",
    "    mask = \"circular\"\n",
    "elif dim == 3:\n",
    "    mask = \"spherical\"\n",
    "\n",
    "## excitatory neurons\n",
    "exc_neuron_type = exc_neuron_model_name\n",
    "exc_positions = nest.spatial.free(\n",
    "    nest.random.uniform(min=-0.5, max=0.5),  # using random positions in a uniform distribution\n",
    "    num_dimensions=dim  # have to specify number of dimensions\n",
    "    )\n",
    "exc_n = 200\n",
    "exc_ndict = {\"I_e\": 200.0, \"tau_m\": 20.0}\n",
    "\n",
    "## inhibitory neurons\n",
    "inh_neuron_type = inh_neuron_model_name\n",
    "inh_positions = nest.spatial.free(\n",
    "    nest.random.uniform(min=-0.5, max=0.5),  \n",
    "    num_dimensions=dim)\n",
    "inh_n = 100\n",
    "inh_ndict = {\"I_e\": 200.0, \"tau_m\": 20.0}\n",
    "\n",
    "## noise generatos\n",
    "exc_noise_type = \"poisson_generator\"\n",
    "inh_noise_type = \"poisson_generator\"\n",
    "exc_rate = 80000  # rate in Hz\n",
    "inh_rate  = 15000\n",
    "\n",
    "## connections\n",
    "# https://nest-simulator.readthedocs.io/en/v3.3/tutorials/pynest_tutorial/part_4_spatially_structured_networks.html#pynest-tutorial-4\n",
    "# https://nest-simulator.readthedocs.io/en/v3.3/guides/spatially_structured_networks.html#spatial-networks\n",
    "### exc to inh\n",
    "exc_d = 1.0\n",
    "exc_synapse_model = synapses_model_name\n",
    "print(\"1\")\n",
    "exc_inh_wr = nest.Create('weight_recorder')\n",
    "nest.CopyModel(exc_synapse_model, \"exc_synapse_rec\", {\"weight_recorder\": exc_inh_wr})\n",
    "exc_alpha_min = 0.1\n",
    "exc_alpha_max = 2.\n",
    "exc_alpha = nest.random.uniform(min=exc_alpha_min, max=exc_alpha_max)\n",
    "exc_w_min = 0.5\n",
    "exc_w_max = 5.\n",
    "exc_w = nest.random.uniform(min=exc_w_min, max=exc_w_max)\n",
    "Ke = 25\n",
    "if exc_circular_conn:\n",
    "    # Circular mask, distance-dependent connection probability with gaussian distribution\n",
    "    print(\"exc: circular connection\")\n",
    "    exc_conn_dict = {'rule': 'pairwise_bernoulli',\n",
    "             'p': nest.spatial_distributions.gaussian(nest.spatial.distance, std=0.2),\n",
    "             'mask': {mask: {'radius': 0.35}},\n",
    "             'allow_autapses': False,\n",
    "             #'weight': exc_w\n",
    "             }\n",
    "else:\n",
    "    print(\"exc: indegree connection\")\n",
    "    exc_conn_dict = {\"rule\": \"fixed_indegree\", \"indegree\": Ke}\n",
    "    \n",
    "exc_syn_dict = {\"delay\": exc_d, \"weight\": exc_w}\n",
    "if not(exc_synapse_model==\"\"):\n",
    "    exc_syn_dict[\"synapse_model\"] = \"exc_synapse_rec\"\n",
    "    if not(exc_circular_conn):\n",
    "        exc_syn_dict[\"alpha\"] = exc_alpha\n",
    "\n",
    "### inh to exc\n",
    "inh_d = 1.0\n",
    "# delays could be space-dependent\n",
    "inh_synapse_model = synapses_model_name\n",
    "print(\"5\")\n",
    "inh_exc_wr = nest.Create('weight_recorder')\n",
    "nest.CopyModel(inh_synapse_model, \"inh_synapse_rec\", {\"weight_recorder\": inh_exc_wr})\n",
    "inh_alpha_min = 0.1\n",
    "inh_alpha_max = 2.\n",
    "inh_alpha = nest.random.uniform(min=inh_alpha_min, max=inh_alpha_max)\n",
    "# something weird here. inh_w should be negative\n",
    "inh_w_min = 0.5\n",
    "inh_w_max = 5.\n",
    "#inh_w_min = -1.\n",
    "#inh_w_max = -0.5\n",
    "inh_w = nest.random.uniform(min=inh_w_min, max=inh_w_max)\n",
    "# weights could be space-dependen\n",
    "Ki = 20\n",
    "if inh_circular_conn:\n",
    "    print(\"inh: circular connection\")\n",
    "    inh_conn_dict = {'rule': 'pairwise_bernoulli',\n",
    "         'p': nest.spatial_distributions.gaussian(nest.spatial.distance, std=0.2),\n",
    "         'mask': {mask: {'radius': 0.5}},\n",
    "         'allow_autapses': False,\n",
    "         #'weight': inh_w\n",
    "         }\n",
    "else:\n",
    "    print(\"inh: indegree connection\")\n",
    "    inh_conn_dict = {\"rule\": \"fixed_indegree\", \"indegree\": Ki}\n",
    "\n",
    "inh_syn_dict = {\"delay\": inh_d, \"weight\": inh_w}\n",
    "if not(inh_synapse_model==\"\"):\n",
    "    inh_syn_dict[\"synapse_model\"] = \"inh_synapse_rec\"\n",
    "    if not(inh_circular_conn):\n",
    "        inh_syn_dict[\"alpha\"] = inh_alpha\n",
    "\n",
    "### noise to {exc, inh}\n",
    "noise_exc_exc_w = 1.2\n",
    "noise_exc_inh_w = 1.5\n",
    "noise_inh_exc_w = -2.1\n",
    "noise_inh_inh_w = -2.0\n",
    "syn_dict_noise_exc_exc = {\"weight\": noise_exc_exc_w}\n",
    "syn_dict_noise_exc_inh = {\"weight\": noise_exc_inh_w}\n",
    "syn_dict_noise_inh_exc = {\"weight\": noise_inh_exc_w}\n",
    "syn_dict_noise_inh_inh = {\"weight\": noise_inh_inh_w}\n",
    "print(\"10\")"
   ]
  },
  {
   "cell_type": "code",
   "execution_count": 4,
   "id": "d871584a",
   "metadata": {},
   "outputs": [
    {
     "ename": "NESTErrors.UnknownModelName",
     "evalue": "UnknownModelName in SLI function CreateLayer_D_D: /edlif_psc_alpha_percent is not a known model name.",
     "output_type": "error",
     "traceback": [
      "\u001b[0;31m---------------------------------------------------------------------------\u001b[0m",
      "\u001b[0;31mNESTErrors.UnknownModelName\u001b[0m               Traceback (most recent call last)",
      "Input \u001b[0;32mIn [4]\u001b[0m, in \u001b[0;36m<cell line: 4>\u001b[0;34m()\u001b[0m\n\u001b[1;32m      2\u001b[0m nest\u001b[38;5;241m.\u001b[39mrng_seed \u001b[38;5;241m=\u001b[39m seed\n\u001b[1;32m      3\u001b[0m \u001b[38;5;66;03m## excitatory neurons\u001b[39;00m\n\u001b[0;32m----> 4\u001b[0m exc_pop \u001b[38;5;241m=\u001b[39m \u001b[43mnest\u001b[49m\u001b[38;5;241;43m.\u001b[39;49m\u001b[43mCreate\u001b[49m\u001b[43m(\u001b[49m\u001b[43mexc_neuron_type\u001b[49m\u001b[43m,\u001b[49m\u001b[43m \u001b[49m\u001b[43mn\u001b[49m\u001b[38;5;241;43m=\u001b[39;49m\u001b[43mexc_n\u001b[49m\u001b[43m,\u001b[49m\u001b[43m \u001b[49m\u001b[43mpositions\u001b[49m\u001b[38;5;241;43m=\u001b[39;49m\u001b[43mexc_positions\u001b[49m\u001b[43m,\u001b[49m\u001b[43m \u001b[49m\u001b[43mparams\u001b[49m\u001b[38;5;241;43m=\u001b[39;49m\u001b[43mexc_ndict\u001b[49m\u001b[43m)\u001b[49m\n\u001b[1;32m      6\u001b[0m \u001b[38;5;66;03m## inhibitory neurons\u001b[39;00m\n\u001b[1;32m      7\u001b[0m inh_pop \u001b[38;5;241m=\u001b[39m nest\u001b[38;5;241m.\u001b[39mCreate(inh_neuron_type, n\u001b[38;5;241m=\u001b[39minh_n, positions\u001b[38;5;241m=\u001b[39minh_positions, params\u001b[38;5;241m=\u001b[39minh_ndict)\n",
      "File \u001b[0;32m~/anaconda3/envs/wnestml/lib/python3.8/site-packages/nest/ll_api.py:229\u001b[0m, in \u001b[0;36mstack_checker.<locals>.stack_checker_func\u001b[0;34m(*args, **kwargs)\u001b[0m\n\u001b[1;32m    226\u001b[0m \u001b[38;5;129m@functools\u001b[39m\u001b[38;5;241m.\u001b[39mwraps(f)\n\u001b[1;32m    227\u001b[0m \u001b[38;5;28;01mdef\u001b[39;00m \u001b[38;5;21mstack_checker_func\u001b[39m(\u001b[38;5;241m*\u001b[39margs, \u001b[38;5;241m*\u001b[39m\u001b[38;5;241m*\u001b[39mkwargs):\n\u001b[1;32m    228\u001b[0m     \u001b[38;5;28;01mif\u001b[39;00m \u001b[38;5;129;01mnot\u001b[39;00m get_debug():\n\u001b[0;32m--> 229\u001b[0m         \u001b[38;5;28;01mreturn\u001b[39;00m \u001b[43mf\u001b[49m\u001b[43m(\u001b[49m\u001b[38;5;241;43m*\u001b[39;49m\u001b[43margs\u001b[49m\u001b[43m,\u001b[49m\u001b[43m \u001b[49m\u001b[38;5;241;43m*\u001b[39;49m\u001b[38;5;241;43m*\u001b[39;49m\u001b[43mkwargs\u001b[49m\u001b[43m)\u001b[49m\n\u001b[1;32m    230\u001b[0m     \u001b[38;5;28;01melse\u001b[39;00m:\n\u001b[1;32m    231\u001b[0m         sr(\u001b[38;5;124m'\u001b[39m\u001b[38;5;124mcount\u001b[39m\u001b[38;5;124m'\u001b[39m)\n",
      "File \u001b[0;32m~/anaconda3/envs/wnestml/lib/python3.8/site-packages/nest/lib/hl_api_nodes.py:127\u001b[0m, in \u001b[0;36mCreate\u001b[0;34m(model, n, params, positions)\u001b[0m\n\u001b[1;32m    124\u001b[0m     \u001b[38;5;28;01mif\u001b[39;00m params \u001b[38;5;129;01mis\u001b[39;00m \u001b[38;5;28;01mNone\u001b[39;00m:\n\u001b[1;32m    125\u001b[0m         \u001b[38;5;66;03m# For compatibility with SLI.\u001b[39;00m\n\u001b[1;32m    126\u001b[0m         params \u001b[38;5;241m=\u001b[39m {}\n\u001b[0;32m--> 127\u001b[0m     node_ids \u001b[38;5;241m=\u001b[39m \u001b[43msli_func\u001b[49m\u001b[43m(\u001b[49m\u001b[38;5;124;43m'\u001b[39;49m\u001b[38;5;124;43mCreateLayerParams\u001b[39;49m\u001b[38;5;124;43m'\u001b[39;49m\u001b[43m,\u001b[49m\u001b[43m \u001b[49m\u001b[43mlayer_specs\u001b[49m\u001b[43m,\u001b[49m\u001b[43m \u001b[49m\u001b[43mparams\u001b[49m\u001b[43m)\u001b[49m\n\u001b[1;32m    128\u001b[0m \u001b[38;5;28;01melse\u001b[39;00m:\n\u001b[1;32m    129\u001b[0m     \u001b[38;5;66;03m# If node params contains iterable of Parameter, set after nodes are created. Empty dictionary\u001b[39;00m\n\u001b[1;32m    130\u001b[0m     \u001b[38;5;66;03m# needed for SLI\u001b[39;00m\n\u001b[1;32m    131\u001b[0m     node_ids \u001b[38;5;241m=\u001b[39m sli_func(\u001b[38;5;124m'\u001b[39m\u001b[38;5;124mCreateLayerParams\u001b[39m\u001b[38;5;124m'\u001b[39m, layer_specs, {})\n",
      "File \u001b[0;32m~/anaconda3/envs/wnestml/lib/python3.8/site-packages/nest/ll_api.py:165\u001b[0m, in \u001b[0;36msli_func\u001b[0;34m(s, *args, **kwargs)\u001b[0m\n\u001b[1;32m    163\u001b[0m sli_push(args)       \u001b[38;5;66;03m# push array of arguments on SLI stack\u001b[39;00m\n\u001b[1;32m    164\u001b[0m sli_push(s)          \u001b[38;5;66;03m# push command string\u001b[39;00m\n\u001b[0;32m--> 165\u001b[0m \u001b[43msli_run\u001b[49m\u001b[43m(\u001b[49m\u001b[43mslifun\u001b[49m\u001b[43m)\u001b[49m      \u001b[38;5;66;03m# SLI support code to execute s on args\u001b[39;00m\n\u001b[1;32m    166\u001b[0m r \u001b[38;5;241m=\u001b[39m sli_pop()        \u001b[38;5;66;03m# return value is an array\u001b[39;00m\n\u001b[1;32m    168\u001b[0m \u001b[38;5;28;01mif\u001b[39;00m \u001b[38;5;28mlen\u001b[39m(r) \u001b[38;5;241m==\u001b[39m \u001b[38;5;241m1\u001b[39m:      \u001b[38;5;66;03m# 1 return value is no tuple\u001b[39;00m\n",
      "File \u001b[0;32m~/anaconda3/envs/wnestml/lib/python3.8/site-packages/nest/ll_api.py:115\u001b[0m, in \u001b[0;36mcatching_sli_run\u001b[0;34m(cmd)\u001b[0m\n\u001b[1;32m    112\u001b[0m engine\u001b[38;5;241m.\u001b[39mrun(\u001b[38;5;124m'\u001b[39m\u001b[38;5;124mclear\u001b[39m\u001b[38;5;124m'\u001b[39m)\n\u001b[1;32m    114\u001b[0m exceptionCls \u001b[38;5;241m=\u001b[39m \u001b[38;5;28mgetattr\u001b[39m(kernel\u001b[38;5;241m.\u001b[39mNESTErrors, errorname)\n\u001b[0;32m--> 115\u001b[0m \u001b[38;5;28;01mraise\u001b[39;00m exceptionCls(commandname, message)\n",
      "\u001b[0;31mNESTErrors.UnknownModelName\u001b[0m: UnknownModelName in SLI function CreateLayer_D_D: /edlif_psc_alpha_percent is not a known model name."
     ]
    }
   ],
   "source": [
    "# create network\n",
    "nest.rng_seed = seed\n",
    "## excitatory neurons\n",
    "exc_pop = nest.Create(exc_neuron_type, n=exc_n, positions=exc_positions, params=exc_ndict)\n",
    "\n",
    "## inhibitory neurons\n",
    "inh_pop = nest.Create(inh_neuron_type, n=inh_n, positions=inh_positions, params=inh_ndict)\n",
    "\n",
    "## noise\n",
    "exc_noise = nest.Create(exc_noise_type)\n",
    "inh_noise = nest.Create(inh_noise_type)\n",
    "exc_noise.set(rate=exc_rate)  \n",
    "inh_noise.set(rate=inh_rate)\n",
    "\n",
    "## connections\n",
    "### exc to inh\n",
    "nest.Connect(exc_pop, inh_pop, \n",
    "             conn_spec=exc_conn_dict), \n",
    "             #syn_spec=exc_syn_dict)\n",
    "\n",
    "### inh to exc\n",
    "nest.Connect(inh_pop, exc_pop)\n",
    "#             conn_spec=inh_conn_dict, \n",
    "#             syn_spec=inh_syn_dict)\n",
    "\n",
    "### noise_{exc, inh} to {exc, inh}_pop\n",
    "nest.Connect(exc_noise, exc_pop, syn_spec=syn_dict_noise_exc_exc)\n",
    "nest.Connect(exc_noise, inh_pop, syn_spec=syn_dict_noise_exc_inh)\n",
    "nest.Connect(inh_noise, exc_pop, syn_spec=syn_dict_noise_inh_exc)\n",
    "nest.Connect(inh_noise, inh_pop, syn_spec=syn_dict_noise_inh_inh)"
   ]
  },
  {
   "cell_type": "code",
   "execution_count": null,
   "id": "dfe3626e",
   "metadata": {},
   "outputs": [],
   "source": [
    "exc_fig = nest.PlotLayer(exc_pop, nodesize=80)"
   ]
  },
  {
   "cell_type": "code",
   "execution_count": null,
   "id": "194933d7",
   "metadata": {},
   "outputs": [],
   "source": [
    "# exc pop (blue), inh pop (red)\n",
    "if exc_circular_conn:\n",
    "    exc_fig = nest.PlotLayer(exc_pop, nodesize=80)\n",
    "    ctr = nest.FindCenterElement(exc_pop)\n",
    "    final_fig = nest.PlotTargets(ctr, inh_pop, fig=exc_fig,\n",
    "                     mask=exc_conn_dict['mask'], probability_parameter=exc_conn_dict['p'],\n",
    "                     src_size=250, tgt_color='red', tgt_size=20, mask_color='red',\n",
    "                     probability_cmap='Greens')"
   ]
  },
  {
   "cell_type": "code",
   "execution_count": null,
   "id": "b9c6eb6a",
   "metadata": {},
   "outputs": [],
   "source": [
    "inh_fig = nest.PlotLayer(inh_pop, nodesize=80)"
   ]
  },
  {
   "cell_type": "code",
   "execution_count": null,
   "id": "fcdd0bf1",
   "metadata": {},
   "outputs": [],
   "source": [
    "# inh pop (blue), exc pop (red)\n",
    "if inh_circular_conn:\n",
    "    inh_fig = nest.PlotLayer(inh_pop, nodesize=80)\n",
    "    ctr = nest.FindCenterElement(inh_pop)\n",
    "    final_fig = nest.PlotTargets(ctr, exc_pop, fig=inh_fig,\n",
    "                     mask=inh_conn_dict['mask'], probability_parameter=inh_conn_dict['p'],\n",
    "                     src_size=250, tgt_color='red', tgt_size=20, mask_color='red',\n",
    "                     probability_cmap='Greens')"
   ]
  },
  {
   "cell_type": "code",
   "execution_count": null,
   "id": "c99deb32",
   "metadata": {},
   "outputs": [],
   "source": [
    "# recording\n",
    "\n",
    "## voltmeter\n",
    "exc_voltmeter = nest.Create(\"voltmeter\")\n",
    "inh_voltmeter = nest.Create(\"voltmeter\")\n",
    "if exc_neuron_model_name in [\"edlif_psc_percent\", \"edlif_percent_mwe0_nestml__with_stdp0_nestml\"]:\n",
    "    exc_voltmeter.set({\"record_from\": [\"V_m\", \"ATP\", \"ATP_c\", \"ATP_s\", \"E_ap_tr\", \"E_ap_c\"]})\n",
    "    exc_voltmeter.set({\"record_from\": [\"V_m\"]})\n",
    "else:\n",
    "    exc_voltmeter.set({\"record_from\": [\"V_m\"]})\n",
    "if inh_neuron_model_name in [\"edlif_psc_percent\", \"edlif_percent_mwe0_nestml__with_stdp0_nestml\"]:\n",
    "    inh_voltmeter.set({\"record_from\": [\"V_m\", \"ATP\", \"ATP_c\", \"ATP_s\", \"E_ap_tr\", \"E_ap_c\"]})\n",
    "    inh_voltmeter.set({\"record_from\": [\"V_m\"]})\n",
    "else:\n",
    "    inh_voltmeter.set({\"record_from\": [\"V_m\"]})\n",
    "nest.Connect(exc_voltmeter, exc_pop)\n",
    "nest.Connect(inh_voltmeter, inh_pop)\n",
    "\n",
    "## multimeter\n",
    "#multimeter = nest.Create(\"multimeter\")\n",
    "#multimeter.set(record_from=[\"V_m\"])\n",
    "\n",
    "## spike recorder\n",
    "spikerecorder = nest.Create(\"spike_recorder\")\n",
    "\n",
    "## weight recorder\n",
    "#exc_wr = nest.Create('weight_recorder')\n",
    "#nest.CopyModel(exc_synapse_model, \"exc_stdp_synapse_rec\", {\"weight_recorder\": exc_wr})\n",
    "#inh_wr = nest.Create('weight_recorder')\n",
    "#nest.CopyModel(inh_synapse_model, \"inh_stdp_synapse_rec\", {\"weight_recorder\": inh_wr})\n",
    "\n",
    "## connections to devices\n",
    "#nest.Connect(multimeter, exc_pop)\n",
    "#nest.Connect(multimeter, inh_pop)\n",
    "nest.Connect(exc_pop, spikerecorder)\n",
    "nest.Connect(inh_pop, spikerecorder)"
   ]
  },
  {
   "cell_type": "code",
   "execution_count": null,
   "id": "1dc828d6",
   "metadata": {},
   "outputs": [],
   "source": [
    "exc_inh_w_per_iter = []\n",
    "for _ in range(iterations):\n",
    "    nest.Simulate(simtime)\n",
    "    exc_inh_conn = nest.GetConnections(exc_pop, inh_pop)\n",
    "    #print(exc_inh_w)\n",
    "    exc_inh_w_per_iter.append(exc_inh_conn.get(\"weight\"))"
   ]
  },
  {
   "cell_type": "code",
   "execution_count": null,
   "id": "e2688e6a",
   "metadata": {
    "scrolled": false
   },
   "outputs": [],
   "source": [
    "# Extracting voltimeter data\n",
    "def get_neuron_vm(neuron_idx):\n",
    "    if neuron_idx >= exc_n+inh_n:\n",
    "        raise Exception(f\"neuron idx should be < {exc_n+inh_n}\")\n",
    "    if neuron_idx >= exc_n:\n",
    "        print(\"this is an inh neuron\")\n",
    "        dmm = exc_voltmeter.get()\n",
    "    else:\n",
    "        print(\"this is an exc neuron\")\n",
    "        dmm = inh_voltmeter.get()\n",
    "    #dmm = multimeter.get()\n",
    "    Vms = dmm[\"events\"][\"V_m\"][neuron_idx::exc_n+inh_n]\n",
    "    ts = dmm[\"events\"][\"times\"][neuron_idx::exc_n+inh_n]\n",
    "    return Vms, ts\n",
    "\n",
    "neuron_idx = 200\n",
    "Vms, ts = get_neuron_vm(neuron_idx)\n",
    "plt.plot(ts, Vms)"
   ]
  },
  {
   "cell_type": "code",
   "execution_count": null,
   "id": "ae4e927c",
   "metadata": {},
   "outputs": [],
   "source": [
    "# extracting spikes data\n",
    "dSD = spikerecorder.get(\"events\")\n",
    "evs = dSD[\"senders\"]\n",
    "ts = dSD[\"times\"]\n",
    "plt.plot(ts, evs, \".\")"
   ]
  },
  {
   "cell_type": "code",
   "execution_count": null,
   "id": "54c41395",
   "metadata": {},
   "outputs": [],
   "source": [
    "# extracting exc weights value data\n",
    "# TODO: Fix this function! is totally wrong\n",
    "def get_weight_value(pre_neuron_idx, post_neuron_idx):\n",
    "    exc_inh_w  = exc_inh_wr.get(\"events\")\n",
    "    print(exc_inh_w )\n",
    "    w = exc_inh_w [\"weights\"][pre_neuron_idx::(inh_n+1)]\n",
    "    ts = exc_inh_w[\"times\"][pre_neuron_idx::(inh_n+1)]\n",
    "\n",
    "    return ts, w\n",
    "\n",
    "pre_idx = 0\n",
    "post_idx = 0\n",
    "ts, w = get_weight_value(pre_idx, post_idx)\n",
    "plt.plot(ts, w, \".-\")"
   ]
  },
  {
   "cell_type": "code",
   "execution_count": null,
   "id": "5f450a1f",
   "metadata": {},
   "outputs": [],
   "source": [
    "# extracting inh weights value data\n",
    "# TODO: Fix this function! is totally wrong\n",
    "def get_weight_value(pre_neuron_idx, post_neuron_idx):\n",
    "    inh_exc_w = inh_exc_wr.get(\"events\")\n",
    "    print(inh_exc_w)\n",
    "    w = inh_exc_w[\"weights\"][post_neuron_idx::exc_n]\n",
    "    ts = inh_exc_w[\"times\"][post_neuron_idx::exc_n]\n",
    "\n",
    "    return ts, w\n",
    "\n",
    "pre_idx = 0\n",
    "post_idx = 3\n",
    "ts, w = get_weight_value(pre_idx, post_idx)\n",
    "plt.plot(ts, w, \".-\")"
   ]
  },
  {
   "cell_type": "code",
   "execution_count": null,
   "id": "4d6fdbc9",
   "metadata": {},
   "outputs": [],
   "source": [
    "print(exc_inh_w_per_iter)\n",
    "time = np.arange(simtime, simtime*(iterations+1), simtime)\n",
    "print(time)\n",
    "plt.plot(time, exc_inh_w_per_iter)"
   ]
  },
  {
   "cell_type": "code",
   "execution_count": null,
   "id": "0cec0839",
   "metadata": {},
   "outputs": [],
   "source": [
    "exc_noise"
   ]
  },
  {
   "cell_type": "code",
   "execution_count": null,
   "id": "a7384fab",
   "metadata": {},
   "outputs": [],
   "source": [
    "#plt.plot(exc_noise)"
   ]
  },
  {
   "cell_type": "code",
   "execution_count": null,
   "id": "09e9792d",
   "metadata": {},
   "outputs": [],
   "source": [
    "nest.GetDefaults(\"stdp0_nestml__with_edlif_psc_alpha_percent0_nestml\")"
   ]
  },
  {
   "cell_type": "code",
   "execution_count": null,
   "id": "eaacec4f",
   "metadata": {},
   "outputs": [],
   "source": [
    "nest.GetDefaults(\"stdp_synapse\")"
   ]
  },
  {
   "cell_type": "code",
   "execution_count": null,
   "id": "4eb2f145",
   "metadata": {},
   "outputs": [],
   "source": [
    "nest.GetDefaults(\"iaf_psc_alpha\")"
   ]
  },
  {
   "cell_type": "code",
   "execution_count": 16,
   "id": "756fccec",
   "metadata": {},
   "outputs": [
    {
     "name": "stdout",
     "output_type": "stream",
     "text": [
      "NodeCollection(metadata=None, model=edlif_psc_exp_percent, size=5, first=70, last=74)\n"
     ]
    },
    {
     "data": {
      "text/plain": [
       "(5.875132986818338,\n",
       " 5.065239162160869,\n",
       " 5.211942506448816,\n",
       " 5.857455358310189,\n",
       " 5.319984112431898)"
      ]
     },
     "execution_count": 16,
     "metadata": {},
     "output_type": "execute_result"
    }
   ],
   "source": [
    "import numpy\n",
    "test = nest.Create(\"edlif_psc_exp_percent\", 5)\n",
    "print(test)\n",
    "#test.set({\"ATP\": nest.random.normal(mean=5, std=1)})\n",
    "mean = 5\n",
    "std = 1\n",
    "test.set({\"ATP\": [mean+std*numpy.random.rand() for x in range(len(test))]})\n",
    "test.get(\"ATP\")"
   ]
  },
  {
   "cell_type": "code",
   "execution_count": null,
   "id": "e58d93af",
   "metadata": {},
   "outputs": [],
   "source": []
  }
 ],
 "metadata": {
  "kernelspec": {
   "display_name": "Python 3 (ipykernel)",
   "language": "python",
   "name": "python3"
  },
  "language_info": {
   "codemirror_mode": {
    "name": "ipython",
    "version": 3
   },
   "file_extension": ".py",
   "mimetype": "text/x-python",
   "name": "python",
   "nbconvert_exporter": "python",
   "pygments_lexer": "ipython3",
   "version": "3.10.4"
  }
 },
 "nbformat": 4,
 "nbformat_minor": 5
}
