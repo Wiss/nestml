{
 "cells": [
  {
   "cell_type": "markdown",
   "id": "332cd90c",
   "metadata": {},
   "source": [
    "# EDLIF model\n",
    "\n",
    "Jaras I, Harada T, Orchard ME, Maldonado PE, Vergara RC. Extending the integrate-and-fire model to account for metabolic dependencies. Eur J Neurosci. 2021 Aug;54(4):5249-5260. doi: 10.1111/ejn.15326. Epub 2021 Jul 16. PMID: 34109698."
   ]
  },
  {
   "cell_type": "code",
   "execution_count": 1,
   "id": "420f57fa",
   "metadata": {},
   "outputs": [
    {
     "name": "stdout",
     "output_type": "stream",
     "text": [
      "\n",
      "              -- N E S T --\n",
      "  Copyright (C) 2004 The NEST Initiative\n",
      "\n",
      " Version: master@61f08e0ea\n",
      " Built: Jul 14 2022 17:28:07\n",
      "\n",
      " This program is provided AS IS and comes with\n",
      " NO WARRANTY. See the file LICENSE for details.\n",
      "\n",
      " Problems or suggestions?\n",
      "   Visit https://www.nest-simulator.org\n",
      "\n",
      " Type 'nest.help()' to find out more about NEST.\n",
      "\n"
     ]
    }
   ],
   "source": [
    "%matplotlib inline\n",
    "import matplotlib.pyplot as plt\n",
    "import nest\n",
    "import numpy as np\n",
    "import os\n",
    "\n",
    "from pynestml.frontend.pynestml_frontend import generate_nest_target\n",
    "\n",
    "NEST_SIMULATOR_INSTALL_LOCATION = nest.ll_api.sli_func(\"statusdict/prefix ::\")"
   ]
  },
  {
   "cell_type": "code",
   "execution_count": 2,
   "id": "994a61ff",
   "metadata": {
    "scrolled": false
   },
   "outputs": [
    {
     "name": "stdout",
     "output_type": "stream",
     "text": [
      "[1,GLOBAL, INFO]: List of files that will be processed:\n",
      "[2,GLOBAL, INFO]: /home/wis/Documents/nestml/edlif/edlif_psc_percent.nestml\n",
      "[3,GLOBAL, INFO]: No module name specified; the generated module will be named \"nestmlmodule\"\n",
      "[4,GLOBAL, INFO]: Start processing '/home/wis/Documents/nestml/edlif/edlif_psc_percent.nestml'!\n",
      "[6,edlif_psc_percent, INFO, [60:31;60:39]]: Implicit magnitude conversion from pA to pA buffer with factor 1.0 \n",
      "[7,edlif_psc_percent, INFO, [60:13;60:22]]: Implicit magnitude conversion from mV / ms to pA / pF with factor 1.0 \n",
      "[8,edlif_psc_percent, INFO, [24:15;24:15]]: Implicit casting from (compatible) type 'integer' to 'real'.\n",
      "[9,edlif_psc_percent, INFO, [27:15;27:15]]: Implicit casting from (compatible) type 'integer' to 'real'.\n",
      "[10,edlif_psc_percent, INFO, [28:15;28:15]]: Implicit casting from (compatible) type 'integer' to 'real'.\n",
      "[11,edlif_psc_percent, INFO, [85:17;85:17]]: Implicit casting from (compatible) type 'integer' to 'real'.\n",
      "[12,edlif_psc_percent, INFO, [92:17;92:17]]: Implicit casting from (compatible) type 'integer' to 'real'.\n",
      "[13,edlif_psc_percent, INFO, [93:16;93:16]]: Implicit casting from (compatible) type 'integer' to 'real'.\n",
      "[14,edlif_psc_percent, INFO, [94:16;94:16]]: Implicit casting from (compatible) type 'integer' to 'real'.\n",
      "[15,edlif_psc_percent, INFO, [95:16;95:16]]: Implicit casting from (compatible) type 'integer' to 'real'.\n",
      "[16,edlif_psc_percent, INFO, [97:18;97:18]]: Implicit casting from (compatible) type 'integer' to 'real'.\n",
      "[17,edlif_psc_percent, INFO, [100:25;100:32]]: Implicit casting from (compatible) type 'integer' to 'real'.\n",
      "[18,edlif_psc_percent, INFO, [132:30;132:30]]: Implicit casting from (compatible) type 'integer' to 'real'.\n",
      "[19,edlif_psc_percent, INFO, [134:30;134:30]]: Implicit casting from (compatible) type 'integer' to 'real'.\n",
      "[20,edlif_psc_percent, INFO, [143:17;143:17]]: Implicit casting from (compatible) type 'integer' to 'real'.\n",
      "Warning: PyGSL is not available. The stiffness test will be skipped.\n",
      "Warning: No module named 'pygsl'\n",
      "\n",
      "\n",
      "[21,GLOBAL, INFO]: Given template root path is not an absolute path. Creating the absolute path with default templates directory '/home/wis/anaconda3/envs/wnestml/lib/python3.10/site-packages/pynestml/codegeneration/resources_nest/point_neuron'\n",
      "[22,GLOBAL, INFO]: Given template root path is not an absolute path. Creating the absolute path with default templates directory '/home/wis/anaconda3/envs/wnestml/lib/python3.10/site-packages/pynestml/codegeneration/resources_nest/point_neuron'\n",
      "[23,GLOBAL, INFO]: The NEST installation was automatically detected as: /home/wis/anaconda3/envs/wnestml\n"
     ]
    },
    {
     "name": "stderr",
     "output_type": "stream",
     "text": [
      "INFO:Analysing input:\n",
      "INFO:{\n",
      "    \"dynamics\": [\n",
      "        {\n",
      "            \"expression\": \"V_abs' = -V_abs / tau_m + ((I_kernel_exc__X__exc_spikes - I_kernel_inh__X__inh_spikes) + I_e + I_stim) / C_m\",\n",
      "            \"initial_values\": {\n",
      "                \"V_abs\": \"0\"\n",
      "            }\n",
      "        },\n",
      "        {\n",
      "            \"expression\": \"ATP' = (((ATP_h - ATP) * K_ATP * homeostatic_s_enabled + ATP_basal) - ((ATP_basal + (E_ap_tr / tau_ap * E_ap / o_t) + ((ATP_kernel_exc__X__exc_spikes + ATP_kernel_inh__X__inh_spikes) * 0.01 / 1.0) * 0))) * o_t\",\n",
      "            \"initial_values\": {\n",
      "                \"ATP\": \"100\"\n",
      "            }\n",
      "        },\n",
      "        {\n",
      "            \"expression\": \"I_kernel_inh__X__inh_spikes = exp(-t / tau_syn_inh)\",\n",
      "            \"initial_values\": {}\n",
      "        },\n",
      "        {\n",
      "            \"expression\": \"ATP_kernel_exc__X__exc_spikes = exp(-t / tau_syn_atp_exc)\",\n",
      "            \"initial_values\": {}\n",
      "        },\n",
      "        {\n",
      "            \"expression\": \"I_kernel_exc__X__exc_spikes = exp(-t / tau_syn_exc)\",\n",
      "            \"initial_values\": {}\n",
      "        },\n",
      "        {\n",
      "            \"expression\": \"ATP_kernel_inh__X__inh_spikes = exp(-t / tau_syn_atp_inh)\",\n",
      "            \"initial_values\": {}\n",
      "        }\n",
      "    ],\n",
      "    \"options\": {\n",
      "        \"output_timestep_symbol\": \"__h\"\n",
      "    },\n",
      "    \"parameters\": {\n",
      "        \"ATP_basal\": \"E_rp + E_hk\",\n",
      "        \"ATP_h\": \"100\",\n",
      "        \"C_m\": \"250\",\n",
      "        \"E_L\": \"-70\",\n",
      "        \"E_ap\": \"15\",\n",
      "        \"E_hk\": \"5\",\n",
      "        \"E_rp\": \"5\",\n",
      "        \"I_e\": \"0\",\n",
      "        \"K_ATP\": \"1\",\n",
      "        \"V_reset\": \"-70 - E_L\",\n",
      "        \"V_th\": \"-55 - E_L\",\n",
      "        \"gamma\": \"16\",\n",
      "        \"gsl_error_tol\": \"10 ** (-3)\",\n",
      "        \"o_t\": \"1 ** -1\",\n",
      "        \"t_ref\": \"5\",\n",
      "        \"tau_ap\": \"50\",\n",
      "        \"tau_m\": \"10\",\n",
      "        \"tau_syn_atp_exc\": \"20\",\n",
      "        \"tau_syn_atp_inh\": \"20\",\n",
      "        \"tau_syn_exc\": \"2\",\n",
      "        \"tau_syn_inh\": \"2\"\n",
      "    }\n",
      "}\n",
      "INFO:Processing global options...\n",
      "INFO:Processing input shapes...\n",
      "INFO:\n",
      "Processing differential-equation form shape V_abs with defining expression = \"-V_abs / tau_m + ((I_kernel_exc__X__exc_spikes - I_kernel_inh__X__inh_spikes) + I_e + I_stim) / C_m\"\n"
     ]
    },
    {
     "name": "stdout",
     "output_type": "stream",
     "text": [
      "[25,edlif_psc_percent, INFO, [24:15;24:15]]: Implicit casting from (compatible) type 'integer' to 'real'.\n",
      "[26,edlif_psc_percent, INFO, [27:15;27:15]]: Implicit casting from (compatible) type 'integer' to 'real'.\n",
      "[27,edlif_psc_percent, INFO, [28:15;28:15]]: Implicit casting from (compatible) type 'integer' to 'real'.\n",
      "[28,edlif_psc_percent, INFO, [85:17;85:17]]: Implicit casting from (compatible) type 'integer' to 'real'.\n",
      "[29,edlif_psc_percent, INFO, [92:17;92:17]]: Implicit casting from (compatible) type 'integer' to 'real'.\n",
      "[30,edlif_psc_percent, INFO, [93:16;93:16]]: Implicit casting from (compatible) type 'integer' to 'real'.\n",
      "[31,edlif_psc_percent, INFO, [94:16;94:16]]: Implicit casting from (compatible) type 'integer' to 'real'.\n",
      "[32,edlif_psc_percent, INFO, [95:16;95:16]]: Implicit casting from (compatible) type 'integer' to 'real'.\n",
      "[33,edlif_psc_percent, INFO, [97:18;97:18]]: Implicit casting from (compatible) type 'integer' to 'real'.\n",
      "[34,edlif_psc_percent, INFO, [100:25;100:32]]: Implicit casting from (compatible) type 'integer' to 'real'.\n",
      "[35,edlif_psc_percent, INFO, [132:30;132:30]]: Implicit casting from (compatible) type 'integer' to 'real'.\n",
      "[36,edlif_psc_percent, INFO, [134:30;134:30]]: Implicit casting from (compatible) type 'integer' to 'real'.\n",
      "[37,edlif_psc_percent, INFO, [143:17;143:17]]: Implicit casting from (compatible) type 'integer' to 'real'.\n",
      "[38,GLOBAL, INFO]: Analysing/transforming neuron 'edlif_psc_percent'\n",
      "[39,edlif_psc_percent, INFO, [19:0;169:0]]: Starts processing of the model 'edlif_psc_percent'\n"
     ]
    },
    {
     "name": "stderr",
     "output_type": "stream",
     "text": [
      "INFO:\tReturning shape: Shape \"V_abs\" of order 1\n",
      "INFO:Shape V_abs: reconstituting expression -V_abs/tau_m + I_e/C_m + (I_kernel_exc__X__exc_spikes - I_kernel_inh__X__inh_spikes + I_stim)/C_m\n",
      "INFO:\n",
      "Processing differential-equation form shape ATP with defining expression = \"(((ATP_h - ATP) * K_ATP * homeostatic_s_enabled + ATP_basal) - ((ATP_basal + (E_ap_tr / tau_ap * E_ap / o_t) + ((ATP_kernel_exc__X__exc_spikes + ATP_kernel_inh__X__inh_spikes) * 0.01 / 1.0) * 0))) * o_t\"\n",
      "INFO:\tReturning shape: Shape \"ATP\" of order 1\n",
      "INFO:Shape ATP: reconstituting expression (-E_ap*E_ap_tr + K_ATP*homeostatic_s_enabled*o_t*tau_ap*(-ATP + ATP_h))/tau_ap\n",
      "INFO:\n",
      "Processing function-of-time shape I_kernel_inh__X__inh_spikes with defining expression = \"exp(-t/tau_syn_inh)\"\n",
      "INFO:Shape I_kernel_inh__X__inh_spikes: reconstituting expression -I_kernel_inh__X__inh_spikes/tau_syn_inh\n",
      "INFO:\n",
      "Processing function-of-time shape ATP_kernel_exc__X__exc_spikes with defining expression = \"exp(-t/tau_syn_atp_exc)\"\n",
      "INFO:Shape ATP_kernel_exc__X__exc_spikes: reconstituting expression -ATP_kernel_exc__X__exc_spikes/tau_syn_atp_exc\n",
      "INFO:\n",
      "Processing function-of-time shape I_kernel_exc__X__exc_spikes with defining expression = \"exp(-t/tau_syn_exc)\"\n",
      "INFO:Shape I_kernel_exc__X__exc_spikes: reconstituting expression -I_kernel_exc__X__exc_spikes/tau_syn_exc\n",
      "INFO:\n",
      "Processing function-of-time shape ATP_kernel_inh__X__inh_spikes with defining expression = \"exp(-t/tau_syn_atp_inh)\"\n",
      "INFO:Shape ATP_kernel_inh__X__inh_spikes: reconstituting expression -ATP_kernel_inh__X__inh_spikes/tau_syn_atp_inh\n",
      "INFO:All known variables: [V_abs, ATP, I_kernel_inh__X__inh_spikes, ATP_kernel_exc__X__exc_spikes, I_kernel_exc__X__exc_spikes, ATP_kernel_inh__X__inh_spikes], all parameters used in ODEs: {tau_syn_inh, tau_m, ATP_h, E_ap, E_ap_tr, K_ATP, tau_syn_atp_exc, o_t, homeostatic_s_enabled, I_e, C_m, tau_syn_exc, tau_syn_atp_inh, I_stim, tau_ap}\n",
      "INFO:No numerical value specified for parameter \"E_ap_tr\"\n",
      "INFO:No numerical value specified for parameter \"homeostatic_s_enabled\"\n",
      "INFO:No numerical value specified for parameter \"I_stim\"\n",
      "INFO:\n",
      "Processing differential-equation form shape V_abs with defining expression = \"-V_abs / tau_m + ((I_kernel_exc__X__exc_spikes - I_kernel_inh__X__inh_spikes) + I_e + I_stim) / C_m\"\n",
      "INFO:\tReturning shape: Shape \"V_abs\" of order 1\n",
      "INFO:\n",
      "Processing differential-equation form shape ATP with defining expression = \"(((ATP_h - ATP) * K_ATP * homeostatic_s_enabled + ATP_basal) - ((ATP_basal + (E_ap_tr / tau_ap * E_ap / o_t) + ((ATP_kernel_exc__X__exc_spikes + ATP_kernel_inh__X__inh_spikes) * 0.01 / 1.0) * 0))) * o_t\"\n",
      "INFO:\tReturning shape: Shape \"ATP\" of order 1\n",
      "INFO:\n",
      "Processing function-of-time shape I_kernel_inh__X__inh_spikes with defining expression = \"exp(-t/tau_syn_inh)\"\n",
      "INFO:\n",
      "Processing function-of-time shape ATP_kernel_exc__X__exc_spikes with defining expression = \"exp(-t/tau_syn_atp_exc)\"\n",
      "INFO:\n",
      "Processing function-of-time shape I_kernel_exc__X__exc_spikes with defining expression = \"exp(-t/tau_syn_exc)\"\n",
      "INFO:\n",
      "Processing function-of-time shape ATP_kernel_inh__X__inh_spikes with defining expression = \"exp(-t/tau_syn_atp_inh)\"\n",
      "INFO:Shape V_abs: reconstituting expression -V_abs/tau_m + (I_e + I_stim)/C_m + (I_kernel_exc__X__exc_spikes - I_kernel_inh__X__inh_spikes)/C_m\n",
      "INFO:Shape ATP: reconstituting expression -ATP*K_ATP*homeostatic_s_enabled*o_t + ATP_h*K_ATP*homeostatic_s_enabled*o_t - E_ap*E_ap_tr/tau_ap\n",
      "INFO:Shape I_kernel_inh__X__inh_spikes: reconstituting expression -I_kernel_inh__X__inh_spikes/tau_syn_inh\n",
      "INFO:Shape ATP_kernel_exc__X__exc_spikes: reconstituting expression -ATP_kernel_exc__X__exc_spikes/tau_syn_atp_exc\n",
      "INFO:Shape I_kernel_exc__X__exc_spikes: reconstituting expression -I_kernel_exc__X__exc_spikes/tau_syn_exc\n",
      "INFO:Shape ATP_kernel_inh__X__inh_spikes: reconstituting expression -ATP_kernel_inh__X__inh_spikes/tau_syn_atp_inh\n",
      "INFO:Dependency analysis...\n",
      "INFO:Shape V_abs: reconstituting expression -V_abs/tau_m + (I_e + I_stim)/C_m + (I_kernel_exc__X__exc_spikes - I_kernel_inh__X__inh_spikes)/C_m\n",
      "INFO:Shape ATP: reconstituting expression -ATP*K_ATP*homeostatic_s_enabled*o_t + ATP_h*K_ATP*homeostatic_s_enabled*o_t - E_ap*E_ap_tr/tau_ap\n",
      "INFO:Shape I_kernel_inh__X__inh_spikes: reconstituting expression -I_kernel_inh__X__inh_spikes/tau_syn_inh\n",
      "INFO:Shape ATP_kernel_exc__X__exc_spikes: reconstituting expression -ATP_kernel_exc__X__exc_spikes/tau_syn_atp_exc\n",
      "INFO:Shape I_kernel_exc__X__exc_spikes: reconstituting expression -I_kernel_exc__X__exc_spikes/tau_syn_exc\n",
      "INFO:Shape ATP_kernel_inh__X__inh_spikes: reconstituting expression -ATP_kernel_inh__X__inh_spikes/tau_syn_atp_inh\n",
      "INFO:Generating propagators for the following symbols: V_abs, ATP, I_kernel_inh__X__inh_spikes, ATP_kernel_exc__X__exc_spikes, I_kernel_exc__X__exc_spikes, ATP_kernel_inh__X__inh_spikes\n",
      "INFO:In ode-toolbox: returning outdict = \n",
      "INFO:[\n",
      "    {\n",
      "        \"initial_values\": {\n",
      "            \"ATP\": \"100\",\n",
      "            \"ATP_kernel_exc__X__exc_spikes\": \"1\",\n",
      "            \"ATP_kernel_inh__X__inh_spikes\": \"1\",\n",
      "            \"I_kernel_exc__X__exc_spikes\": \"1\",\n",
      "            \"I_kernel_inh__X__inh_spikes\": \"1\",\n",
      "            \"V_abs\": \"0\"\n",
      "        },\n",
      "        \"parameters\": {\n",
      "            \"ATP_h\": \"100.000000000000\",\n",
      "            \"C_m\": \"250.000000000000\",\n",
      "            \"E_ap\": \"15.0000000000000\",\n",
      "            \"I_e\": \"0\",\n",
      "            \"K_ATP\": \"1.00000000000000\",\n",
      "            \"o_t\": \"1.00000000000000\",\n",
      "            \"tau_ap\": \"50.0000000000000\",\n",
      "            \"tau_m\": \"10.0000000000000\",\n",
      "            \"tau_syn_atp_exc\": \"20.0000000000000\",\n",
      "            \"tau_syn_atp_inh\": \"20.0000000000000\",\n",
      "            \"tau_syn_exc\": \"2.00000000000000\",\n",
      "            \"tau_syn_inh\": \"2.00000000000000\"\n",
      "        },\n",
      "        \"propagators\": {\n",
      "            \"__P__ATP__ATP\": \"exp(-K_ATP*__h*homeostatic_s_enabled*o_t)\",\n",
      "            \"__P__ATP_kernel_exc__X__exc_spikes__ATP_kernel_exc__X__exc_spikes\": \"exp(-__h/tau_syn_atp_exc)\",\n",
      "            \"__P__ATP_kernel_inh__X__inh_spikes__ATP_kernel_inh__X__inh_spikes\": \"exp(-__h/tau_syn_atp_inh)\",\n",
      "            \"__P__I_kernel_exc__X__exc_spikes__I_kernel_exc__X__exc_spikes\": \"exp(-__h/tau_syn_exc)\",\n",
      "            \"__P__I_kernel_inh__X__inh_spikes__I_kernel_inh__X__inh_spikes\": \"exp(-__h/tau_syn_inh)\",\n",
      "            \"__P__V_abs__I_kernel_exc__X__exc_spikes\": \"tau_m*tau_syn_exc*(-exp(__h/tau_m) + exp(__h/tau_syn_exc))*exp(-__h/tau_syn_exc - __h/tau_m)/(C_m*(tau_m - tau_syn_exc))\",\n",
      "            \"__P__V_abs__I_kernel_inh__X__inh_spikes\": \"tau_m*tau_syn_inh*(exp(__h/tau_m) - exp(__h/tau_syn_inh))*exp(-__h/tau_syn_inh - __h/tau_m)/(C_m*(tau_m - tau_syn_inh))\",\n",
      "            \"__P__V_abs__V_abs\": \"exp(-__h/tau_m)\"\n",
      "        },\n",
      "        \"solver\": \"analytical\",\n",
      "        \"state_variables\": [\n",
      "            \"V_abs\",\n",
      "            \"ATP\",\n",
      "            \"I_kernel_inh__X__inh_spikes\",\n",
      "            \"ATP_kernel_exc__X__exc_spikes\",\n",
      "            \"I_kernel_exc__X__exc_spikes\",\n",
      "            \"ATP_kernel_inh__X__inh_spikes\"\n",
      "        ],\n",
      "        \"update_expressions\": {\n",
      "            \"ATP\": \"ATP*__P__ATP__ATP - ATP_h*__P__ATP__ATP + ATP_h + E_ap*E_ap_tr*__P__ATP__ATP/(K_ATP*homeostatic_s_enabled*o_t*tau_ap) - E_ap*E_ap_tr/(K_ATP*homeostatic_s_enabled*o_t*tau_ap)\",\n",
      "            \"ATP_kernel_exc__X__exc_spikes\": \"ATP_kernel_exc__X__exc_spikes*__P__ATP_kernel_exc__X__exc_spikes__ATP_kernel_exc__X__exc_spikes\",\n",
      "            \"ATP_kernel_inh__X__inh_spikes\": \"ATP_kernel_inh__X__inh_spikes*__P__ATP_kernel_inh__X__inh_spikes__ATP_kernel_inh__X__inh_spikes\",\n",
      "            \"I_kernel_exc__X__exc_spikes\": \"I_kernel_exc__X__exc_spikes*__P__I_kernel_exc__X__exc_spikes__I_kernel_exc__X__exc_spikes\",\n",
      "            \"I_kernel_inh__X__inh_spikes\": \"I_kernel_inh__X__inh_spikes*__P__I_kernel_inh__X__inh_spikes__I_kernel_inh__X__inh_spikes\",\n",
      "            \"V_abs\": \"(C_m*(I_kernel_exc__X__exc_spikes*__P__V_abs__I_kernel_exc__X__exc_spikes + I_kernel_inh__X__inh_spikes*__P__V_abs__I_kernel_inh__X__inh_spikes) + __P__V_abs__V_abs*(C_m*V_abs - tau_m*(I_e + I_stim)) + tau_m*(I_e + I_stim))/C_m\"\n",
      "        }\n",
      "    }\n",
      "]\n"
     ]
    },
    {
     "name": "stdout",
     "output_type": "stream",
     "text": [
      "[41,edlif_psc_percent, INFO, [27:15;27:15]]: Implicit casting from (compatible) type 'integer' to 'real'.\n",
      "[42,edlif_psc_percent, INFO, [28:15;28:15]]: Implicit casting from (compatible) type 'integer' to 'real'.\n",
      "[43,edlif_psc_percent, INFO, [85:17;85:17]]: Implicit casting from (compatible) type 'integer' to 'real'.\n",
      "[44,edlif_psc_percent, INFO, [92:17;92:17]]: Implicit casting from (compatible) type 'integer' to 'real'.\n",
      "[45,edlif_psc_percent, INFO, [93:16;93:16]]: Implicit casting from (compatible) type 'integer' to 'real'.\n",
      "[46,edlif_psc_percent, INFO, [94:16;94:16]]: Implicit casting from (compatible) type 'integer' to 'real'.\n",
      "[47,edlif_psc_percent, INFO, [95:16;95:16]]: Implicit casting from (compatible) type 'integer' to 'real'.\n",
      "[48,edlif_psc_percent, INFO, [97:18;97:18]]: Implicit casting from (compatible) type 'integer' to 'real'.\n",
      "[49,edlif_psc_percent, INFO, [100:25;100:32]]: Implicit casting from (compatible) type 'integer' to 'real'.\n",
      "[50,edlif_psc_percent, INFO, [132:30;132:30]]: Implicit casting from (compatible) type 'integer' to 'real'.\n",
      "[51,edlif_psc_percent, INFO, [134:30;134:30]]: Implicit casting from (compatible) type 'integer' to 'real'.\n",
      "[52,edlif_psc_percent, INFO, [143:17;143:17]]: Implicit casting from (compatible) type 'integer' to 'real'.\n",
      "[53,GLOBAL, INFO]: Rendering template /tmp/nestml-component/edlif_psc_percent.cpp\n",
      "[54,GLOBAL, INFO]: Rendering template /tmp/nestml-component/edlif_psc_percent.h\n",
      "[55,edlif_psc_percent, INFO, [19:0;169:0]]: Successfully generated code for the model: 'edlif_psc_percent' in: '/tmp/nestml-component' !\n",
      "[56,GLOBAL, INFO]: Rendering template /tmp/nestml-component/CMakeLists.txt\n",
      "[57,GLOBAL, INFO]: Rendering template /tmp/nestml-component/nestmlmodule.h\n",
      "[58,GLOBAL, INFO]: Rendering template /tmp/nestml-component/nestmlmodule.cpp\n",
      "[59,GLOBAL, INFO]: Rendering template /tmp/nestml-component/CMakeLists.txt\n",
      "[60,GLOBAL, INFO]: Rendering template /tmp/nestml-component/nestmlmodule.h\n",
      "[61,GLOBAL, INFO]: Rendering template /tmp/nestml-component/nestmlmodule.cpp\n",
      "[62,GLOBAL, INFO]: Successfully generated NEST module code in '/tmp/nestml-component' !\n",
      "-- The CXX compiler identification is GNU 9.4.0\n",
      "-- Check for working CXX compiler: /usr/bin/c++\n",
      "-- Check for working CXX compiler: /usr/bin/c++ -- works\n",
      "-- Detecting CXX compiler ABI info\n",
      "-- Detecting CXX compiler ABI info - done\n",
      "-- Detecting CXX compile features\n",
      "-- Detecting CXX compile features - done\n",
      "\n",
      "-------------------------------------------------------\n",
      "nestmlmodule Configuration Summary\n",
      "-------------------------------------------------------\n",
      "\n",
      "C++ compiler         : /usr/bin/c++\n",
      "Build static libs    : OFF\n",
      "C++ compiler flags   : -fvisibility-inlines-hidden -std=c++17 -fmessage-length=0 -march=nocona -mtune=haswell -ftree-vectorize -fPIC -fstack-protector-strong -fno-plt -O2 -ffunction-sections -pipe -isystem /home/wis/anaconda3/envs/wnestml/include\n",
      "NEST compiler flags  :  -O2 -std=c++11 -Wall -fopenmp -fdiagnostics-color=auto\n",
      "NEST include dirs    :  -I/home/wis/anaconda3/envs/wnestml/include/nest -I/usr/include -I/usr/include -I/usr/include -I/home/wis/anaconda3/envs/wnestml/include\n",
      "NEST libraries flags : -L/home/wis/anaconda3/envs/wnestml/lib/nest -lnestutil -lnest -lsli -lnestkernel -fopenmp /usr/lib/x86_64-linux-gnu/libltdl.so /usr/lib/x86_64-linux-gnu/libreadline.so /usr/lib/x86_64-linux-gnu/libncurses.so /usr/lib/x86_64-linux-gnu/libgsl.so /usr/lib/x86_64-linux-gnu/libgslcblas.so\n",
      "\n",
      "-------------------------------------------------------\n",
      "\n",
      "You can now build and install 'nestmlmodule' using\n",
      "  make\n",
      "  make install\n",
      "\n",
      "The library file libnestmlmodule.so will be installed to\n",
      "  /home/wis/anaconda3/envs/wnestml/lib/nest\n",
      "The module can be loaded into NEST using\n",
      "  (nestmlmodule) Install       (in SLI)\n",
      "  nest.Install(nestmlmodule)   (in PyNEST)\n",
      "\n",
      "CMake Warning (dev) in CMakeLists.txt:\n",
      "  No cmake_minimum_required command is present.  A line of code such as\n",
      "\n",
      "    cmake_minimum_required(VERSION 3.16)\n",
      "\n",
      "  should be added at the top of the file.  The version specified may be lower\n",
      "  if you wish to support older CMake versions for this project.  For more\n",
      "  information run \"cmake --help-policy CMP0000\".\n",
      "This warning is for project developers.  Use -Wno-dev to suppress it.\n",
      "\n",
      "-- Configuring done\n",
      "-- Generating done\n",
      "-- Build files have been written to: /tmp/nestml-component\n",
      "Scanning dependencies of target nestmlmodule_lib\n",
      "[ 16%] Building CXX object CMakeFiles/nestmlmodule_lib.dir/nestmlmodule.o\n",
      "[ 33%] Building CXX object CMakeFiles/nestmlmodule_lib.dir/edlif_psc_percent.o\n",
      "/tmp/nestml-component/edlif_psc_percent.cpp: In constructor ‘edlif_psc_percent::edlif_psc_percent()’:\n",
      "/tmp/nestml-component/edlif_psc_percent.cpp:114:16: warning: unused variable ‘__resolution’ [-Wunused-variable]\n",
      "  114 |   const double __resolution = nest::Time::get_resolution().get_ms();  // do not remove, this is necessary for the resolution() function\n",
      "      |                ^~~~~~~~~~~~\n",
      "[ 50%] Linking CXX shared library libnestmlmodule.so\n",
      "[ 50%] Built target nestmlmodule_lib\n",
      "Scanning dependencies of target nestmlmodule_module\n",
      "[ 66%] Building CXX object CMakeFiles/nestmlmodule_module.dir/nestmlmodule.o\n",
      "[ 83%] Building CXX object CMakeFiles/nestmlmodule_module.dir/edlif_psc_percent.o\n",
      "/tmp/nestml-component/edlif_psc_percent.cpp: In constructor ‘edlif_psc_percent::edlif_psc_percent()’:\n",
      "/tmp/nestml-component/edlif_psc_percent.cpp:114:16: warning: unused variable ‘__resolution’ [-Wunused-variable]\n",
      "  114 |   const double __resolution = nest::Time::get_resolution().get_ms();  // do not remove, this is necessary for the resolution() function\n",
      "      |                ^~~~~~~~~~~~\n",
      "[100%] Linking CXX shared module nestmlmodule.so\n",
      "[100%] Built target nestmlmodule_module\n",
      "[ 50%] Built target nestmlmodule_lib\n",
      "[100%] Built target nestmlmodule_module\n",
      "Install the project...\n",
      "-- Install configuration: \"\"\n",
      "-- Installing: /home/wis/anaconda3/envs/wnestml/lib/nest/nestmlmodule.so\n"
     ]
    }
   ],
   "source": [
    "neuron_model = [\n",
    "    \"edlif_psc_base.nestml\", \n",
    "    \"edlif_psc_nonlineardendrite.nestml\",\n",
    "    \"edlif_psc_supply_state.nestml\",\n",
    "    \"edlif_psc_supply_inline.nestml\",\n",
    "    \"edlif_psc_percent.nestml\"\n",
    "]\n",
    "neuron_id = 4\n",
    "generate_nest_target(input_path=neuron_model[neuron_id],\n",
    "                     target_path=\"/tmp/nestml-component\",\n",
    "                     logging_level=\"INFO\",\n",
    "                     codegen_opts={\"nest_path\": NEST_SIMULATOR_INSTALL_LOCATION})"
   ]
  },
  {
   "cell_type": "code",
   "execution_count": 3,
   "id": "9b3949e9",
   "metadata": {},
   "outputs": [
    {
     "name": "stdout",
     "output_type": "stream",
     "text": [
      "\n",
      "Jul 14 17:38:16 Install [Info]: \n",
      "    loaded module nestmlmodule\n"
     ]
    }
   ],
   "source": [
    "nest.Install(\"nestmlmodule\")"
   ]
  },
  {
   "cell_type": "code",
   "execution_count": 4,
   "id": "36fd02f9",
   "metadata": {
    "scrolled": false
   },
   "outputs": [
    {
     "name": "stdout",
     "output_type": "stream",
     "text": [
      "resolution time: 0.1\n",
      "Using neuron model: edlif_psc_percent\n",
      "Using pg current generator\n",
      "absolute error of integration: (0.001,)\n",
      "idx: 0\n",
      "idx: 1\n"
     ]
    },
    {
     "name": "stderr",
     "output_type": "stream",
     "text": [
      "/tmp/ipykernel_37434/2225025825.py:130: UserWarning:Matplotlib is currently using module://matplotlib_inline.backend_inline, which is a non-GUI backend, so cannot show the figure.\n",
      "/tmp/ipykernel_37434/2225025825.py:130: UserWarning:Matplotlib is currently using module://matplotlib_inline.backend_inline, which is a non-GUI backend, so cannot show the figure.\n"
     ]
    },
    {
     "data": {
      "image/png": "[encoded data removed]",
      "text/plain": [
       "<Figure size 1080x1080 with 6 Axes>"
      ]
     },
     "metadata": {
      "needs_background": "light"
     },
     "output_type": "display_data"
    }
   ],
   "source": [
    "nest.set_verbosity(\"M_WARNING\")\n",
    "nest.ResetKernel()\n",
    "\n",
    "# resolution\n",
    "nest.resolution = 0.1\n",
    "resolution = nest.GetKernelStatus()[\"resolution\"]\n",
    "print(f\"resolution time: {resolution}\") \n",
    "\n",
    "neuron_model_name = neuron_model[neuron_id].split(\".\")[0]\n",
    "print(f\"Using neuron model: {neuron_model_name}\")\n",
    "\n",
    "# current generator\n",
    "gen = \"pg\" # dc or ac or pg\n",
    "print(f\"Using {gen} current generator\")\n",
    "\n",
    "#param dict\n",
    "parameter_dict = {\"K_ATP\": [1, 1]}\n",
    "n = 1\n",
    "\n",
    "# create neurons\n",
    "pop1 = nest.Create(neuron_model_name, n, params=parameter_dict)\n",
    "pop2 = nest.Create(neuron_model_name, n, params=parameter_dict)\n",
    "voltmeter1 = nest.Create(\"voltmeter\")\n",
    "voltmeter2 = nest.Create(\"voltmeter\")\n",
    "voltmeter = [voltmeter1, voltmeter2]\n",
    "\n",
    "# create connections\n",
    "syn_dict = {\"synapse_model\": \"stdp_synapse\", \n",
    "            \"weight\": 3000,\n",
    "            \"alpha\": 1\n",
    "            }\n",
    "    \n",
    "#syn_spec = ={\"weight\":2350.0}\n",
    "nest.Connect(pop1, pop2,\n",
    "             \"one_to_one\",\n",
    "             syn_spec=syn_dict)\n",
    "\n",
    "voltmeter[0].set({\"record_from\": [\"V_m\", \"ATP\", \"ATP_c\", \"ATP_s\", \"E_ap_tr\", \"E_ap_c\", \"E_syn_c\"]}) #, \"E_ap_der\", \"E_ap_tr2\"]})\n",
    "voltmeter[1].set({\"record_from\": [\"V_m\", \"ATP\", \"ATP_c\", \"ATP_s\", \"E_ap_tr\", \"E_ap_c\", \"E_syn_c\"]}) #, \"E_ap_der\", \"E_ap_tr2\"]})\n",
    "nest.Connect(voltmeter1, pop1)\n",
    "nest.Connect(voltmeter2, pop2)\n",
    "\n",
    "\"\"\"\n",
    "if gen == \"dc\":\n",
    "    cgs = nest.Create('dc_generator')\n",
    "    cgs.set({\"amplitude\": 1.80})\n",
    "elif gen == \"ac\":\n",
    "    cgs = nest.Create('ac_generator')\n",
    "    cgs.set({\"amplitude\": 2.2})\n",
    "    cgs.set({\"offset\": 2.2})\n",
    "    cgs.set({\"frequency\": 4})\n",
    "elif gen == \"pg\":\n",
    "    cgs = nest.Create('poisson_generator')\n",
    "    cgs.set({\"start\": 50.0, \"stop\": 400.0, \"rate\": 230000})\n",
    "    cgs2 = nest.Create('poisson_generator')\n",
    "    cgs2.set({\"start\": 20.0, \"stop\": 350.0, \"rate\": 200000})\n",
    "\"\"\"\n",
    "dcs = nest.Create('dc_generator')\n",
    "dcs.set({\"amplitude\": 1.86})   \n",
    "\n",
    "acs = nest.Create('ac_generator')\n",
    "acs.set({\"amplitude\": 2.2})\n",
    "acs.set({\"offset\": 2.2})\n",
    "acs.set({\"frequency\": 2})\n",
    "  \n",
    "nest.Connect(dcs, pop1)\n",
    "nest.Connect(acs, pop2)\n",
    "\n",
    "\n",
    "sr = nest.Create(\"spike_recorder\")\n",
    "nest.Connect(pop1, sr)\n",
    "nest.Connect(pop2, sr)\n",
    "\n",
    "nest.Simulate(1*500.)\n",
    "\n",
    "# precision\n",
    "error = nest.GetStatus(pop1, \"gsl_error_tol\")\n",
    "print(f\"absolute error of integration: {error}\")\n",
    "\n",
    "\n",
    "# new arrays for reshaped arrays\n",
    "ts = []\n",
    "Vms = []\n",
    "atp = []\n",
    "atp_h = []\n",
    "atp_c = []\n",
    "atp_s = []\n",
    "e_ap_c = []\n",
    "e_syn_c = []\n",
    "st = []\n",
    "\n",
    "fontsize = 15\n",
    "fig, ax = plt.subplots(nrows=6, figsize=(15,15))\n",
    "\n",
    "for idx in range(2):\n",
    "    # reshape arrays\n",
    "    print(f\"idx: {idx}\")\n",
    "    ts.append(voltmeter[idx].get(\"events\")[\"times\"])\n",
    "    Vms.append(voltmeter[idx].get(\"events\")[\"V_m\"])\n",
    "    atp.append(voltmeter[idx].get(\"events\")[\"ATP\"])\n",
    "    atp_h.append(pop1.get(\"ATP_h\"))\n",
    "    atp_c.append(voltmeter[idx].get(\"events\")[\"ATP_c\"])\n",
    "    atp_s.append(voltmeter[idx].get(\"events\")[\"ATP_s\"])\n",
    "    e_ap_c.append(voltmeter[idx].get(\"events\")[\"E_ap_c\"])\n",
    "    e_syn_c.append(voltmeter[idx].get(\"events\")[\"E_syn_c\"])\n",
    "    \n",
    "    # plot\n",
    "    ax[0].plot(ts[idx], Vms[idx], label=f\"n_{idx}\")\n",
    "    ax[1].plot(ts[idx], atp[idx], label=f\"n_{idx}\")\n",
    "    ax[1].axhline(y=atp_h[idx], ls=\"--\")\n",
    "    ax[2].plot(ts[idx], atp_c[idx], marker ='.', label=f\"n_{idx}\")\n",
    "    ax[2].axhline(y=pop1.get(\"ATP_basal\"), ls=\"--\")\n",
    "    ax[3].plot(ts[idx], atp_s[idx], label=f\"n_{idx}\")\n",
    "    ax[4].plot(ts[idx], e_ap_c[idx], label=f\"n_{idx}\")\n",
    "    #ax[5].plot(voltmeter.get(\"events\")[\"times\"], voltmeter.get(\"events\")[\"E_ap_tr2\"], c=\"b\")\n",
    "    #ax[5].plot(voltmeter.get(\"events\")[\"times\"], voltmeter.get(\"events\")[\"E_ap_der\"], c=\"r\")\n",
    "    ax[5].plot(ts[idx], e_syn_c[idx], label=f\"n_{idx}\")\n",
    "    for _ax in ax:\n",
    "        _ax.grid(True)\n",
    "        _ax.legend()\n",
    "    ax[0].set_ylabel(\"v [mV]\", fontsize=fontsize)\n",
    "    ax[1].set_ylabel(\"ATP\", fontsize=fontsize)\n",
    "    ax[2].set_ylabel(\"ATP_c\", fontsize=fontsize)\n",
    "    ax[3].set_ylabel(\"ATP_s\", fontsize=fontsize)\n",
    "    ax[4].set_ylabel(\"E_ap_tr\", fontsize=fontsize)\n",
    "    ax[4].set_ylabel(\"E_ap_c\", fontsize=fontsize)\n",
    "    ax[5].set_ylabel(\"E_syn_c\", fontsize=fontsize)\n",
    "    ax[-1].set_xlabel(\"Time [ms]\", fontsize=fontsize)\n",
    "    \n",
    "    fig.show()"
   ]
  },
  {
   "cell_type": "code",
   "execution_count": 5,
   "id": "391d6297",
   "metadata": {},
   "outputs": [
    {
     "data": {
      "text/plain": [
       "[<matplotlib.lines.Line2D at 0x7fc8f3c5c4f0>]"
      ]
     },
     "execution_count": 5,
     "metadata": {},
     "output_type": "execute_result"
    },
    {
     "data": {
      "image/png": "[encoded data removed]",
      "text/plain": [
       "<Figure size 432x288 with 1 Axes>"
      ]
     },
     "metadata": {
      "needs_background": "light"
     },
     "output_type": "display_data"
    }
   ],
   "source": [
    "# extracting spikes data\n",
    "dSD = sr.get(\"events\")\n",
    "evs = dSD[\"senders\"]\n",
    "ts = dSD[\"times\"]\n",
    "plt.plot(ts, evs, \".\")"
   ]
  },
  {
   "cell_type": "code",
   "execution_count": 6,
   "id": "8ef7fa02",
   "metadata": {},
   "outputs": [],
   "source": [
    "conns = nest.GetConnections(synapse_model=\"stdp_synapse\")"
   ]
  },
  {
   "cell_type": "code",
   "execution_count": 7,
   "id": "175dbcd5",
   "metadata": {},
   "outputs": [
    {
     "data": {
      "text/plain": [
       "3000.0"
      ]
     },
     "execution_count": 7,
     "metadata": {},
     "output_type": "execute_result"
    }
   ],
   "source": [
    "conns.get(\"weight\")"
   ]
  },
  {
   "cell_type": "code",
   "execution_count": 8,
   "id": "8459ec61",
   "metadata": {},
   "outputs": [
    {
     "data": {
      "text/plain": [
       "2"
      ]
     },
     "execution_count": 8,
     "metadata": {},
     "output_type": "execute_result"
    }
   ],
   "source": [
    "conns.get(\"target\")"
   ]
  },
  {
   "cell_type": "code",
   "execution_count": 9,
   "id": "1193e2b1",
   "metadata": {},
   "outputs": [
    {
     "data": {
      "text/plain": [
       "{'source': 1, 'target': 2, 'weight': 3000.0}"
      ]
     },
     "execution_count": 9,
     "metadata": {},
     "output_type": "execute_result"
    }
   ],
   "source": [
    "conns.get([\"source\", \"target\",\"weight\"])"
   ]
  }
 ],
 "metadata": {
  "kernelspec": {
   "display_name": "Python 3 (ipykernel)",
   "language": "python",
   "name": "python3"
  },
  "language_info": {
   "codemirror_mode": {
    "name": "ipython",
    "version": 3
   },
   "file_extension": ".py",
   "mimetype": "text/x-python",
   "name": "python",
   "nbconvert_exporter": "python",
   "pygments_lexer": "ipython3",
   "version": "3.10.4"
  }
 },
 "nbformat": 4,
 "nbformat_minor": 5
}
