{
 "cells": [
  {
   "cell_type": "markdown",
   "id": "332cd90c",
   "metadata": {},
   "source": [
    "# EDLIF model\n",
    "\n",
    "Jaras I, Harada T, Orchard ME, Maldonado PE, Vergara RC. Extending the integrate-and-fire model to account for metabolic dependencies. Eur J Neurosci. 2021 Aug;54(4):5249-5260. doi: 10.1111/ejn.15326. Epub 2021 Jul 16. PMID: 34109698."
   ]
  },
  {
   "cell_type": "code",
   "execution_count": 1,
   "id": "420f57fa",
   "metadata": {},
   "outputs": [
    {
     "name": "stdout",
     "output_type": "stream",
     "text": [
      "\n",
      "              -- N E S T --\n",
      "  Copyright (C) 2004 The NEST Initiative\n",
      "\n",
      " Version: 3.3\n",
      " Built: Mar 23 2022 13:33:55\n",
      "\n",
      " This program is provided AS IS and comes with\n",
      " NO WARRANTY. See the file LICENSE for details.\n",
      "\n",
      " Problems or suggestions?\n",
      "   Visit https://www.nest-simulator.org\n",
      "\n",
      " Type 'nest.help()' to find out more about NEST.\n",
      "\n"
     ]
    }
   ],
   "source": [
    "%matplotlib inline\n",
    "import matplotlib.pyplot as plt\n",
    "import nest\n",
    "import numpy as np\n",
    "import os\n",
    "\n",
    "from pynestml.frontend.pynestml_frontend import generate_nest_target\n",
    "\n",
    "NEST_SIMULATOR_INSTALL_LOCATION = nest.ll_api.sli_func(\"statusdict/prefix ::\")"
   ]
  },
  {
   "cell_type": "code",
   "execution_count": 2,
   "id": "994a61ff",
   "metadata": {
    "scrolled": false
   },
   "outputs": [
    {
     "name": "stderr",
     "output_type": "stream",
     "text": [
      "line 48:21 extraneous input '=' expecting {'integer', 'real', 'string', 'boolean', 'void', '(', NAME, UNSIGNED_INTEGER}\n",
      "line 48:31 missing '=' at '('\n",
      "line 48:41 mismatched input ',' expecting ')'\n",
      "line 48:52 mismatched input ')' expecting '='\n",
      "line 49:20 extraneous input '=' expecting {'integer', 'real', 'string', 'boolean', 'void', '(', NAME, UNSIGNED_INTEGER}\n",
      "line 49:30 missing '=' at '('\n",
      "line 49:44 mismatched input ',' expecting ')'\n",
      "line 49:55 mismatched input ')' expecting '='\n"
     ]
    },
    {
     "name": "stdout",
     "output_type": "stream",
     "text": [
      "[5,GLOBAL, ERROR]: Error occurred during parsing: abort\n",
      "Warning: PyGSL is not available. The stiffness test will be skipped.\n",
      "Warning: No module named 'pygsl'\n",
      "\n",
      "\n",
      "-- The CXX compiler identification is GNU 10.3.0\n",
      "-- Check for working CXX compiler: /home/wis/anaconda3/envs/wnestml/bin/c++\n",
      "-- Check for working CXX compiler: /home/wis/anaconda3/envs/wnestml/bin/c++ -- works\n",
      "-- Detecting CXX compiler ABI info\n",
      "-- Detecting CXX compiler ABI info - done\n",
      "-- Detecting CXX compile features\n",
      "-- Detecting CXX compile features - done\n",
      "\n",
      "-------------------------------------------------------\n",
      "nestmlmodule Configuration Summary\n",
      "-------------------------------------------------------\n",
      "\n",
      "C++ compiler         : /home/wis/anaconda3/envs/wnestml/bin/c++\n",
      "Build static libs    : OFF\n",
      "C++ compiler flags   : -fvisibility-inlines-hidden -std=c++17 -fmessage-length=0 -march=nocona -mtune=haswell -ftree-vectorize -fPIC -fstack-protector-strong -fno-plt -O2 -ffunction-sections -pipe -isystem /home/wis/anaconda3/envs/wnestml/include\n",
      "NEST compiler flags  : -fvisibility-inlines-hidden -std=c++17 -fmessage-length=0 -march=nocona -mtune=haswell -ftree-vectorize -fPIC -fstack-protector-strong -fno-plt -O2 -ffunction-sections -pipe -isystem /home/wis/anaconda3/envs/wnestml/include -fdebug-prefix-map=/home/conda/feedstock_root/build_artifacts/nest-simulator_1648042222842/work=/usr/local/src/conda/nest-simulator-3.3 -fdebug-prefix-map=/home/wis/anaconda3/envs/wnestml=/usr/local/src/conda-prefix -O2 -std=c++11 -Wall -fopenmp -fdiagnostics-color=auto\n",
      "NEST include dirs    :  -I/home/wis/anaconda3/envs/wnestml/include/nest -I/home/wis/anaconda3/envs/wnestml/include -I/home/wis/anaconda3/envs/wnestml/include -I/home/wis/anaconda3/envs/wnestml/include -I/home/wis/anaconda3/envs/wnestml/include\n",
      "NEST libraries flags : -L/home/wis/anaconda3/envs/wnestml/lib/nest -lnestutil -lnest -lsli -lnestkernel -fopenmp /home/wis/anaconda3/envs/wnestml/lib/libltdl.so /home/wis/anaconda3/envs/wnestml/lib/libreadline.so /home/wis/anaconda3/envs/wnestml/lib/libncurses.so /home/wis/anaconda3/envs/wnestml/lib/libgsl.so /home/wis/anaconda3/envs/wnestml/lib/libgslcblas.so\n",
      "\n",
      "-------------------------------------------------------\n",
      "\n",
      "You can now build and install 'nestmlmodule' using\n",
      "  make\n",
      "  make install\n",
      "\n",
      "The library file libnestmlmodule.so will be installed to\n",
      "  /home/wis/anaconda3/envs/wnestml/lib/nest\n",
      "The module can be loaded into NEST using\n",
      "  (nestmlmodule) Install       (in SLI)\n",
      "  nest.Install(nestmlmodule)   (in PyNEST)\n",
      "\n",
      "CMake Warning (dev) in CMakeLists.txt:\n",
      "  No cmake_minimum_required command is present.  A line of code such as\n",
      "\n",
      "    cmake_minimum_required(VERSION 3.16)\n",
      "\n",
      "  should be added at the top of the file.  The version specified may be lower\n",
      "  if you wish to support older CMake versions for this project.  For more\n",
      "  information run \"cmake --help-policy CMP0000\".\n",
      "This warning is for project developers.  Use -Wno-dev to suppress it.\n",
      "\n",
      "-- Configuring done\n",
      "-- Generating done\n",
      "-- Build files have been written to: /tmp/nestml-component\n",
      "Scanning dependencies of target nestmlmodule_lib\n",
      "[ 25%] Building CXX object CMakeFiles/nestmlmodule_lib.dir/nestmlmodule.o\n",
      "[ 50%] Linking CXX shared library libnestmlmodule.so\n",
      "[ 50%] Built target nestmlmodule_lib\n",
      "Scanning dependencies of target nestmlmodule_module\n",
      "[ 75%] Building CXX object CMakeFiles/nestmlmodule_module.dir/nestmlmodule.o\n",
      "[100%] Linking CXX shared module nestmlmodule.so\n",
      "[100%] Built target nestmlmodule_module\n",
      "[ 50%] Built target nestmlmodule_lib\n",
      "[100%] Built target nestmlmodule_module\n",
      "Install the project...\n",
      "-- Install configuration: \"\"\n",
      "-- Installing: /home/wis/anaconda3/envs/wnestml/lib/nest/nestmlmodule.so\n"
     ]
    }
   ],
   "source": [
    "neuron_model = [\"edlif_psc.nestml\", \"edlif_psc_nonlineardendrite.nestml\"]\n",
    "neuron_id = 1\n",
    "generate_nest_target(input_path=neuron_model[neuron_id],\n",
    "                     target_path=\"/tmp/nestml-component\",\n",
    "                     logging_level=\"WARNING\",\n",
    "                     codegen_opts={\"nest_path\": NEST_SIMULATOR_INSTALL_LOCATION})"
   ]
  },
  {
   "cell_type": "code",
   "execution_count": 3,
   "id": "9b3949e9",
   "metadata": {},
   "outputs": [
    {
     "name": "stdout",
     "output_type": "stream",
     "text": [
      "\n",
      "May 03 18:28:21 Install [Info]: \n",
      "    loaded module nestmlmodule\n"
     ]
    }
   ],
   "source": [
    "nest.Install(\"nestmlmodule\")"
   ]
  },
  {
   "cell_type": "code",
   "execution_count": 4,
   "id": "36fd02f9",
   "metadata": {},
   "outputs": [
    {
     "ename": "NESTErrors.UnknownModelName",
     "evalue": "UnknownModelName in SLI function Create_l_i: /edlif_psc_nonlineardendrite is not a known model name.",
     "output_type": "error",
     "traceback": [
      "\u001b[0;31m---------------------------------------------------------------------------\u001b[0m",
      "\u001b[0;31mNESTErrors.UnknownModelName\u001b[0m               Traceback (most recent call last)",
      "Input \u001b[0;32mIn [4]\u001b[0m, in \u001b[0;36m<cell line: 4>\u001b[0;34m()\u001b[0m\n\u001b[1;32m      1\u001b[0m nest\u001b[38;5;241m.\u001b[39mset_verbosity(\u001b[38;5;124m\"\u001b[39m\u001b[38;5;124mM_WARNING\u001b[39m\u001b[38;5;124m\"\u001b[39m)\n\u001b[1;32m      2\u001b[0m nest\u001b[38;5;241m.\u001b[39mResetKernel()\n\u001b[0;32m----> 4\u001b[0m neuron \u001b[38;5;241m=\u001b[39m \u001b[43mnest\u001b[49m\u001b[38;5;241;43m.\u001b[39;49m\u001b[43mCreate\u001b[49m\u001b[43m(\u001b[49m\u001b[43mneuron_model\u001b[49m\u001b[43m[\u001b[49m\u001b[43mneuron_id\u001b[49m\u001b[43m]\u001b[49m\u001b[38;5;241;43m.\u001b[39;49m\u001b[43msplit\u001b[49m\u001b[43m(\u001b[49m\u001b[38;5;124;43m\"\u001b[39;49m\u001b[38;5;124;43m.\u001b[39;49m\u001b[38;5;124;43m\"\u001b[39;49m\u001b[43m)\u001b[49m\u001b[43m[\u001b[49m\u001b[38;5;241;43m0\u001b[39;49m\u001b[43m]\u001b[49m\u001b[43m)\u001b[49m\n\u001b[1;32m      5\u001b[0m voltmeter \u001b[38;5;241m=\u001b[39m nest\u001b[38;5;241m.\u001b[39mCreate(\u001b[38;5;124m\"\u001b[39m\u001b[38;5;124mvoltmeter\u001b[39m\u001b[38;5;124m\"\u001b[39m)\n\u001b[1;32m      7\u001b[0m voltmeter\u001b[38;5;241m.\u001b[39mset({\u001b[38;5;124m\"\u001b[39m\u001b[38;5;124mrecord_from\u001b[39m\u001b[38;5;124m\"\u001b[39m: [\u001b[38;5;124m\"\u001b[39m\u001b[38;5;124mnew_spike\u001b[39m\u001b[38;5;124m\"\u001b[39m, \u001b[38;5;124m\"\u001b[39m\u001b[38;5;124mV_m\u001b[39m\u001b[38;5;124m\"\u001b[39m, \u001b[38;5;124m\"\u001b[39m\u001b[38;5;124mATP\u001b[39m\u001b[38;5;124m\"\u001b[39m, \u001b[38;5;124m\"\u001b[39m\u001b[38;5;124mATP_c\u001b[39m\u001b[38;5;124m\"\u001b[39m, \u001b[38;5;124m\"\u001b[39m\u001b[38;5;124mATP_s\u001b[39m\u001b[38;5;124m\"\u001b[39m]})\n",
      "File \u001b[0;32m~/anaconda3/envs/wnestml/lib/python3.10/site-packages/nest/ll_api.py:229\u001b[0m, in \u001b[0;36mstack_checker.<locals>.stack_checker_func\u001b[0;34m(*args, **kwargs)\u001b[0m\n\u001b[1;32m    226\u001b[0m \u001b[38;5;129m@functools\u001b[39m\u001b[38;5;241m.\u001b[39mwraps(f)\n\u001b[1;32m    227\u001b[0m \u001b[38;5;28;01mdef\u001b[39;00m \u001b[38;5;21mstack_checker_func\u001b[39m(\u001b[38;5;241m*\u001b[39margs, \u001b[38;5;241m*\u001b[39m\u001b[38;5;241m*\u001b[39mkwargs):\n\u001b[1;32m    228\u001b[0m     \u001b[38;5;28;01mif\u001b[39;00m \u001b[38;5;129;01mnot\u001b[39;00m get_debug():\n\u001b[0;32m--> 229\u001b[0m         \u001b[38;5;28;01mreturn\u001b[39;00m \u001b[43mf\u001b[49m\u001b[43m(\u001b[49m\u001b[38;5;241;43m*\u001b[39;49m\u001b[43margs\u001b[49m\u001b[43m,\u001b[49m\u001b[43m \u001b[49m\u001b[38;5;241;43m*\u001b[39;49m\u001b[38;5;241;43m*\u001b[39;49m\u001b[43mkwargs\u001b[49m\u001b[43m)\u001b[49m\n\u001b[1;32m    230\u001b[0m     \u001b[38;5;28;01melse\u001b[39;00m:\n\u001b[1;32m    231\u001b[0m         sr(\u001b[38;5;124m'\u001b[39m\u001b[38;5;124mcount\u001b[39m\u001b[38;5;124m'\u001b[39m)\n",
      "File \u001b[0;32m~/anaconda3/envs/wnestml/lib/python3.10/site-packages/nest/lib/hl_api_nodes.py:141\u001b[0m, in \u001b[0;36mCreate\u001b[0;34m(model, n, params, positions)\u001b[0m\n\u001b[1;32m    138\u001b[0m         cmd \u001b[38;5;241m=\u001b[39m \u001b[38;5;124m\"\u001b[39m\u001b[38;5;124m/\u001b[39m\u001b[38;5;132;01m%s\u001b[39;00m\u001b[38;5;124m exch Create\u001b[39m\u001b[38;5;124m\"\u001b[39m \u001b[38;5;241m%\u001b[39m model\n\u001b[1;32m    140\u001b[0m     sps(n)\n\u001b[0;32m--> 141\u001b[0m     \u001b[43msr\u001b[49m\u001b[43m(\u001b[49m\u001b[43mcmd\u001b[49m\u001b[43m)\u001b[49m\n\u001b[1;32m    143\u001b[0m     node_ids \u001b[38;5;241m=\u001b[39m spp()\n\u001b[1;32m    145\u001b[0m \u001b[38;5;28;01mif\u001b[39;00m params \u001b[38;5;129;01mis\u001b[39;00m \u001b[38;5;129;01mnot\u001b[39;00m \u001b[38;5;28;01mNone\u001b[39;00m \u001b[38;5;129;01mand\u001b[39;00m iterable_or_parameter_in_params:\n",
      "File \u001b[0;32m~/anaconda3/envs/wnestml/lib/python3.10/site-packages/nest/ll_api.py:115\u001b[0m, in \u001b[0;36mcatching_sli_run\u001b[0;34m(cmd)\u001b[0m\n\u001b[1;32m    112\u001b[0m engine\u001b[38;5;241m.\u001b[39mrun(\u001b[38;5;124m'\u001b[39m\u001b[38;5;124mclear\u001b[39m\u001b[38;5;124m'\u001b[39m)\n\u001b[1;32m    114\u001b[0m exceptionCls \u001b[38;5;241m=\u001b[39m \u001b[38;5;28mgetattr\u001b[39m(kernel\u001b[38;5;241m.\u001b[39mNESTErrors, errorname)\n\u001b[0;32m--> 115\u001b[0m \u001b[38;5;28;01mraise\u001b[39;00m exceptionCls(commandname, message)\n",
      "\u001b[0;31mNESTErrors.UnknownModelName\u001b[0m: UnknownModelName in SLI function Create_l_i: /edlif_psc_nonlineardendrite is not a known model name."
     ]
    }
   ],
   "source": [
    "nest.set_verbosity(\"M_WARNING\")\n",
    "nest.ResetKernel()\n",
    "\n",
    "neuron = nest.Create(neuron_model[neuron_id].split(\".\")[0])\n",
    "voltmeter = nest.Create(\"voltmeter\")\n",
    "\n",
    "voltmeter.set({\"record_from\": [\"new_spike\", \"V_m\", \"ATP\", \"ATP_c\", \"ATP_s\"]})\n",
    "nest.Connect(voltmeter, neuron)\n",
    "\n",
    "cgs = nest.Create('dc_generator')\n",
    "cgs.set({\"amplitude\": 1.86})\n",
    "nest.Connect(cgs, neuron)\n",
    "\n",
    "sr = nest.Create(\"spike_recorder\")\n",
    "nest.Connect(neuron, sr)\n",
    "\n",
    "nest.Simulate(250.)\n",
    "\n",
    "spike_times = nest.GetStatus(sr, keys='events')[0]['times']\n",
    "\n",
    "fontsize = 15\n",
    "fig, ax = plt.subplots(nrows=4, figsize=(15,15))\n",
    "ax[0].plot(voltmeter.get(\"events\")[\"times\"], voltmeter.get(\"events\")[\"V_m\"])\n",
    "ax[0].plot(voltmeter.get(\"events\")[\"times\"], voltmeter.get(\"events\")[\"new_spike\"])\n",
    "ax[1].plot(voltmeter.get(\"events\")[\"times\"], voltmeter.get(\"events\")[\"ATP\"])\n",
    "ax[2].plot(voltmeter.get(\"events\")[\"times\"], voltmeter.get(\"events\")[\"ATP_c\"])\n",
    "ax[3].plot(voltmeter.get(\"events\")[\"times\"], voltmeter.get(\"events\")[\"ATP_s\"])\n",
    "ax[0].scatter(spike_times, -50 * np.ones_like(spike_times), marker=\"d\", c=\"orange\", alpha=.8, zorder=99)\n",
    "for _ax in ax:\n",
    "    _ax.grid(True)\n",
    "ax[0].set_ylabel(\"v [mV]\", fontsize=fontsize)\n",
    "ax[1].set_ylabel(\"ATP\", fontsize=fontsize)\n",
    "ax[2].set_ylabel(\"ATP_c\", fontsize=fontsize)\n",
    "ax[3].set_ylabel(\"ATP_s\", fontsize=fontsize)\n",
    "ax[-1].set_xlabel(\"Time [ms]\", fontsize=fontsize)\n",
    "fig.show()"
   ]
  },
  {
   "cell_type": "code",
   "execution_count": null,
   "id": "1f952c43",
   "metadata": {},
   "outputs": [],
   "source": []
  },
  {
   "cell_type": "code",
   "execution_count": null,
   "id": "7060033e-19a8-4d68-affb-95f69c6b592b",
   "metadata": {},
   "outputs": [],
   "source": []
  }
 ],
 "metadata": {
  "kernelspec": {
   "display_name": "Python 3 (ipykernel)",
   "language": "python",
   "name": "python3"
  },
  "language_info": {
   "codemirror_mode": {
    "name": "ipython",
    "version": 3
   },
   "file_extension": ".py",
   "mimetype": "text/x-python",
   "name": "python",
   "nbconvert_exporter": "python",
   "pygments_lexer": "ipython3",
   "version": "3.10.4"
  }
 },
 "nbformat": 4,
 "nbformat_minor": 5
}
