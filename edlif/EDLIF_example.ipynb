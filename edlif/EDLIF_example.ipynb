{
 "cells": [
  {
   "cell_type": "markdown",
   "id": "332cd90c",
   "metadata": {},
   "source": [
    "# EDLIF model\n",
    "\n",
    "Jaras I, Harada T, Orchard ME, Maldonado PE, Vergara RC. Extending the integrate-and-fire model to account for metabolic dependencies. Eur J Neurosci. 2021 Aug;54(4):5249-5260. doi: 10.1111/ejn.15326. Epub 2021 Jul 16. PMID: 34109698."
   ]
  },
  {
   "cell_type": "code",
   "execution_count": 1,
   "id": "420f57fa",
   "metadata": {},
   "outputs": [
    {
     "name": "stdout",
     "output_type": "stream",
     "text": [
      "\n",
      "              -- N E S T --\n",
      "  Copyright (C) 2004 The NEST Initiative\n",
      "\n",
      " Version: 3.3\n",
      " Built: Mar 23 2022 13:33:55\n",
      "\n",
      " This program is provided AS IS and comes with\n",
      " NO WARRANTY. See the file LICENSE for details.\n",
      "\n",
      " Problems or suggestions?\n",
      "   Visit https://www.nest-simulator.org\n",
      "\n",
      " Type 'nest.help()' to find out more about NEST.\n",
      "\n"
     ]
    }
   ],
   "source": [
    "%matplotlib inline\n",
    "import matplotlib.pyplot as plt\n",
    "import nest\n",
    "import numpy as np\n",
    "import os\n",
    "\n",
    "from pynestml.frontend.pynestml_frontend import generate_nest_target\n",
    "\n",
    "NEST_SIMULATOR_INSTALL_LOCATION = nest.ll_api.sli_func(\"statusdict/prefix ::\")"
   ]
  },
  {
   "cell_type": "code",
   "execution_count": 2,
   "id": "994a61ff",
   "metadata": {},
   "outputs": [
    {
     "name": "stdout",
     "output_type": "stream",
     "text": [
      "[6,edlif_psc, WARNING, [29:13;29:22]]: Non-matching unit types at mV / ms +/- pA / pF! Implicitly replaced by mV / ms +/- 1.0 * pA / pF.\n",
      "[7,edlif_psc, WARNING, [78:12;78:12]]: Implicit casting from (compatible) type 'mV' to 'integer'.\n",
      "Warning: PyGSL is not available. The stiffness test will be skipped.\n",
      "Warning: No module named 'pygsl'\n",
      "\n",
      "\n",
      "-- The CXX compiler identification is GNU 10.3.0\n",
      "-- Check for working CXX compiler: /home/wis/anaconda3/envs/wnestml/bin/c++\n",
      "-- Check for working CXX compiler: /home/wis/anaconda3/envs/wnestml/bin/c++ -- works\n",
      "-- Detecting CXX compiler ABI info\n",
      "-- Detecting CXX compiler ABI info - done\n",
      "-- Detecting CXX compile features\n",
      "-- Detecting CXX compile features - done\n",
      "\n",
      "-------------------------------------------------------\n",
      "nestmlmodule Configuration Summary\n",
      "-------------------------------------------------------\n",
      "\n",
      "C++ compiler         : /home/wis/anaconda3/envs/wnestml/bin/c++\n",
      "Build static libs    : OFF\n",
      "C++ compiler flags   : -fvisibility-inlines-hidden -std=c++17 -fmessage-length=0 -march=nocona -mtune=haswell -ftree-vectorize -fPIC -fstack-protector-strong -fno-plt -O2 -ffunction-sections -pipe -isystem /home/wis/anaconda3/envs/wnestml/include\n",
      "NEST compiler flags  : -fvisibility-inlines-hidden -std=c++17 -fmessage-length=0 -march=nocona -mtune=haswell -ftree-vectorize -fPIC -fstack-protector-strong -fno-plt -O2 -ffunction-sections -pipe -isystem /home/wis/anaconda3/envs/wnestml/include -fdebug-prefix-map=/home/conda/feedstock_root/build_artifacts/nest-simulator_1648042222842/work=/usr/local/src/conda/nest-simulator-3.3 -fdebug-prefix-map=/home/wis/anaconda3/envs/wnestml=/usr/local/src/conda-prefix -O2 -std=c++11 -Wall -fopenmp -fdiagnostics-color=auto\n",
      "NEST include dirs    :  -I/home/wis/anaconda3/envs/wnestml/include/nest -I/home/wis/anaconda3/envs/wnestml/include -I/home/wis/anaconda3/envs/wnestml/include -I/home/wis/anaconda3/envs/wnestml/include -I/home/wis/anaconda3/envs/wnestml/include\n",
      "NEST libraries flags : -L/home/wis/anaconda3/envs/wnestml/lib/nest -lnestutil -lnest -lsli -lnestkernel -fopenmp /home/wis/anaconda3/envs/wnestml/lib/libltdl.so /home/wis/anaconda3/envs/wnestml/lib/libreadline.so /home/wis/anaconda3/envs/wnestml/lib/libncurses.so /home/wis/anaconda3/envs/wnestml/lib/libgsl.so /home/wis/anaconda3/envs/wnestml/lib/libgslcblas.so\n",
      "\n",
      "-------------------------------------------------------\n",
      "\n",
      "You can now build and install 'nestmlmodule' using\n",
      "  make\n",
      "  make install\n",
      "\n",
      "The library file libnestmlmodule.so will be installed to\n",
      "  /home/wis/anaconda3/envs/wnestml/lib/nest\n",
      "The module can be loaded into NEST using\n",
      "  (nestmlmodule) Install       (in SLI)\n",
      "  nest.Install(nestmlmodule)   (in PyNEST)\n",
      "\n",
      "CMake Warning (dev) in CMakeLists.txt:\n",
      "  No cmake_minimum_required command is present.  A line of code such as\n",
      "\n",
      "    cmake_minimum_required(VERSION 3.16)\n",
      "\n",
      "  should be added at the top of the file.  The version specified may be lower\n",
      "  if you wish to support older CMake versions for this project.  For more\n",
      "  information run \"cmake --help-policy CMP0000\".\n",
      "This warning is for project developers.  Use -Wno-dev to suppress it.\n",
      "\n",
      "-- Configuring done\n",
      "-- Generating done\n",
      "-- Build files have been written to: /tmp/nestml-component\n",
      "Scanning dependencies of target nestmlmodule_lib\n",
      "[ 16%] Building CXX object CMakeFiles/nestmlmodule_lib.dir/nestmlmodule.o\n",
      "[ 33%] Building CXX object CMakeFiles/nestmlmodule_lib.dir/edlif_psc.o\n",
      "/tmp/nestml-component/edlif_psc.cpp: In constructor 'edlif_psc::edlif_psc()':\n",
      "/tmp/nestml-component/edlif_psc.cpp:106:16: warning: unused variable '__resolution' [-Wunused-variable]\n",
      "  106 |   const double __resolution = nest::Time::get_resolution().get_ms();  // do not remove, this is necessary for the resolution() function\n",
      "      |                ^~~~~~~~~~~~\n",
      "/tmp/nestml-component/edlif_psc.cpp: In member function 'virtual void edlif_psc::update(const nest::Time&, long int, long int)':\n",
      "/tmp/nestml-component/edlif_psc.cpp:280:16: warning: unused variable '__resolution' [-Wunused-variable]\n",
      "  280 |   const double __resolution = nest::Time::get_resolution().get_ms();  // do not remove, this is necessary for the resolution() function\n",
      "      |                ^~~~~~~~~~~~\n",
      "[ 50%] Linking CXX shared library libnestmlmodule.so\n",
      "[ 50%] Built target nestmlmodule_lib\n",
      "Scanning dependencies of target nestmlmodule_module\n",
      "[ 66%] Building CXX object CMakeFiles/nestmlmodule_module.dir/nestmlmodule.o\n",
      "[ 83%] Building CXX object CMakeFiles/nestmlmodule_module.dir/edlif_psc.o\n",
      "/tmp/nestml-component/edlif_psc.cpp: In constructor 'edlif_psc::edlif_psc()':\n",
      "/tmp/nestml-component/edlif_psc.cpp:106:16: warning: unused variable '__resolution' [-Wunused-variable]\n",
      "  106 |   const double __resolution = nest::Time::get_resolution().get_ms();  // do not remove, this is necessary for the resolution() function\n",
      "      |                ^~~~~~~~~~~~\n",
      "/tmp/nestml-component/edlif_psc.cpp: In member function 'virtual void edlif_psc::update(const nest::Time&, long int, long int)':\n",
      "/tmp/nestml-component/edlif_psc.cpp:280:16: warning: unused variable '__resolution' [-Wunused-variable]\n",
      "  280 |   const double __resolution = nest::Time::get_resolution().get_ms();  // do not remove, this is necessary for the resolution() function\n",
      "      |                ^~~~~~~~~~~~\n",
      "[100%] Linking CXX shared module nestmlmodule.so\n",
      "[100%] Built target nestmlmodule_module\n",
      "[ 50%] Built target nestmlmodule_lib\n",
      "[100%] Built target nestmlmodule_module\n",
      "Install the project...\n",
      "-- Install configuration: \"\"\n",
      "-- Installing: /home/wis/anaconda3/envs/wnestml/lib/nest/nestmlmodule.so\n"
     ]
    }
   ],
   "source": [
    "generate_nest_target(input_path=\"edlif_psc.nestml\",\n",
    "                     target_path=\"/tmp/nestml-component\",\n",
    "                     logging_level=\"WARNING\",\n",
    "                     codegen_opts={\"nest_path\": NEST_SIMULATOR_INSTALL_LOCATION})"
   ]
  },
  {
   "cell_type": "code",
   "execution_count": 3,
   "id": "9b3949e9",
   "metadata": {},
   "outputs": [
    {
     "name": "stdout",
     "output_type": "stream",
     "text": [
      "\n",
      "Apr 13 14:23:40 Install [Info]: \n",
      "    loaded module nestmlmodule\n"
     ]
    }
   ],
   "source": [
    "nest.Install(\"nestmlmodule\")"
   ]
  },
  {
   "cell_type": "code",
   "execution_count": 4,
   "id": "36fd02f9",
   "metadata": {},
   "outputs": [
    {
     "name": "stderr",
     "output_type": "stream",
     "text": [
      "/tmp/ipykernel_49759/424194641.py:30: UserWarning:Matplotlib is currently using module://matplotlib_inline.backend_inline, which is a non-GUI backend, so cannot show the figure.\n"
     ]
    },
    {
     "data": {
      "image/png": "[encoded data removed]",
      "text/plain": [
       "<Figure size 432x288 with 2 Axes>"
      ]
     },
     "metadata": {
      "needs_background": "light"
     },
     "output_type": "display_data"
    }
   ],
   "source": [
    "nest.set_verbosity(\"M_WARNING\")\n",
    "nest.ResetKernel()\n",
    "\n",
    "neuron = nest.Create(\"edlif_psc\")\n",
    "voltmeter = nest.Create(\"voltmeter\")\n",
    "\n",
    "voltmeter.set({\"record_from\": [\"V_abs\", \"V_m\", \"ATP\"]})\n",
    "nest.Connect(voltmeter, neuron)\n",
    "\n",
    "cgs = nest.Create('dc_generator')\n",
    "cgs.set({\"amplitude\": 1.})\n",
    "nest.Connect(cgs, neuron)\n",
    "\n",
    "sr = nest.Create(\"spike_recorder\")\n",
    "nest.Connect(neuron, sr)\n",
    "\n",
    "nest.Simulate(250.)\n",
    "\n",
    "spike_times = nest.GetStatus(sr, keys='events')[0]['times']\n",
    "\n",
    "fig, ax = plt.subplots(nrows=2)\n",
    "ax[0].plot(voltmeter.get(\"events\")[\"times\"], voltmeter.get(\"events\")[\"V_m\"])\n",
    "ax[1].plot(voltmeter.get(\"events\")[\"times\"], voltmeter.get(\"events\")[\"ATP\"])\n",
    "ax[0].scatter(spike_times, 30 * np.ones_like(spike_times), marker=\"d\", c=\"orange\", alpha=.8, zorder=99)\n",
    "for _ax in ax:\n",
    "    _ax.grid(True)\n",
    "ax[0].set_ylabel(\"v [mV]\")\n",
    "ax[1].set_ylabel(\"ATP\")\n",
    "ax[-1].set_xlabel(\"Time [ms]\")\n",
    "fig.show()"
   ]
  },
  {
   "cell_type": "code",
   "execution_count": null,
   "id": "1f952c43",
   "metadata": {},
   "outputs": [],
   "source": []
  }
 ],
 "metadata": {
  "kernelspec": {
   "display_name": "Python 3 (ipykernel)",
   "language": "python",
   "name": "python3"
  },
  "language_info": {
   "codemirror_mode": {
    "name": "ipython",
    "version": 3
   },
   "file_extension": ".py",
   "mimetype": "text/x-python",
   "name": "python",
   "nbconvert_exporter": "python",
   "pygments_lexer": "ipython3",
   "version": "3.10.4"
  }
 },
 "nbformat": 4,
 "nbformat_minor": 5
}
